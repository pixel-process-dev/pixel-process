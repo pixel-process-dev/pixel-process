{
 "cells": [
  {
   "cell_type": "markdown",
   "id": "755ab54d-c0f9-429f-b85e-2a9189fd5a96",
   "metadata": {},
   "source": [
    "---\n",
    "title: \"Housing Regression\"\n",
    "navtitle: \"Housing Regression (NB)\"\n",
    "subtitle: \"Introduction to Regression\"\n",
    "description: \"Overview of conducting regression analyses for ML.\"\n",
    "format:\n",
    "  html:\n",
    "    page-layout: full\n",
    "    title-block-banner: true\n",
    "---"
   ]
  },
  {
   "cell_type": "markdown",
   "id": "25d651fe-a448-40fd-8074-bf9e52991b35",
   "metadata": {},
   "source": [
    "# Housing Regression\n",
    "\n",
    "This dataset is composed of over 20,000 rows and 9 columns.\n",
    "\n",
    "Notebook goals:\n",
    "\n",
    "- Complete regression analysis with train-test split and two models for comparison\n",
    "- Data investigation of summary statistics and visualizations\n",
    "- Metric evaluation and performance visualization"
   ]
  },
  {
   "cell_type": "markdown",
   "id": "ecef9059-61b8-4ab9-8633-962d3f4aef87",
   "metadata": {},
   "source": [
    "##### Imports"
   ]
  },
  {
   "cell_type": "code",
   "execution_count": 1,
   "id": "76bd2fe6-c8a9-4ecd-90e5-5485f4eb53f1",
   "metadata": {},
   "outputs": [
    {
     "name": "stdout",
     "output_type": "stream",
     "text": [
      "Loading json from: ../tools/json/plotly_template.json\n"
     ]
    }
   ],
   "source": [
    "#| include: false\n",
    "# Global plot settings (hidden from learners)\n",
    "\n",
    "import plotly.io as pio\n",
    "from mypyutils import load_json\n",
    "\n",
    "custom_template = load_json(\"../tools/json/plotly_template.json\")\n",
    "\n",
    "pio.renderers.default = \"png\"  # static images, faster rendering\n",
    "pio.templates[\"custom_clean\"] = custom_template\n",
    "pio.templates.default = \"custom_clean\""
   ]
  },
  {
   "cell_type": "code",
   "execution_count": 2,
   "id": "1c8a6357-8604-4bd0-90a5-113065421f4c",
   "metadata": {},
   "outputs": [],
   "source": [
    "# import os\n",
    "# import numpy as np\n",
    "import pandas as pd\n",
    "# import seaborn as sns\n",
    "# import matplotlib.pyplot as plt\n",
    "from skimpy import skim"
   ]
  },
  {
   "cell_type": "code",
   "execution_count": 3,
   "id": "89fc34c3-0847-4ba3-972f-f0afc4f1b378",
   "metadata": {},
   "outputs": [],
   "source": [
    "from sklearn.datasets import fetch_california_housing\n",
    "from sklearn.model_selection import train_test_split\n",
    "from sklearn.linear_model import LinearRegression\n",
    "from sklearn.ensemble import RandomForestRegressor\n",
    "from sklearn.metrics import (\n",
    "    mean_squared_error,\n",
    "    explained_variance_score\n",
    ")"
   ]
  },
  {
   "cell_type": "markdown",
   "id": "7a40bfcb-7203-4686-a1f2-0d37d7e10c92",
   "metadata": {},
   "source": [
    "## Data"
   ]
  },
  {
   "cell_type": "markdown",
   "id": "865d5c25-db9f-46a8-9f50-3fb0c1646cd3",
   "metadata": {},
   "source": [
    "### Get the Data\n",
    "\n",
    "- Import the data from sklearn\n",
    "- Transfer data into pandas DataFrame\n",
    "- Basic data overview\n",
    "\n",
    "Note: Data is returned as a bunch object, similar to a dictionary. We'll convert it to a pandas df."
   ]
  },
  {
   "cell_type": "code",
   "execution_count": 4,
   "id": "c4d1d709-06d0-45b2-b502-93a439145185",
   "metadata": {},
   "outputs": [],
   "source": [
    "# Load data\n",
    "data = fetch_california_housing()"
   ]
  },
  {
   "cell_type": "code",
   "execution_count": 5,
   "id": "63966931-4a25-4123-8227-793d72524e57",
   "metadata": {},
   "outputs": [
    {
     "data": {
      "text/plain": [
       "sklearn.utils._bunch.Bunch"
      ]
     },
     "execution_count": 5,
     "metadata": {},
     "output_type": "execute_result"
    }
   ],
   "source": [
    "type(data)"
   ]
  },
  {
   "cell_type": "code",
   "execution_count": 6,
   "id": "72e9c9ca-bc10-41b3-b7e8-9456535a9e4e",
   "metadata": {},
   "outputs": [
    {
     "data": {
      "text/plain": [
       "dict_keys(['data', 'target', 'frame', 'target_names', 'feature_names', 'DESCR'])"
      ]
     },
     "execution_count": 6,
     "metadata": {},
     "output_type": "execute_result"
    }
   ],
   "source": [
    "data.keys()"
   ]
  },
  {
   "cell_type": "code",
   "execution_count": 7,
   "id": "bb477d35-45fe-411f-baaa-ce35add13b66",
   "metadata": {},
   "outputs": [],
   "source": [
    "# Convert data to pandas dataframe\n",
    "df = pd.DataFrame(data=data['data'], columns=data['feature_names'])"
   ]
  },
  {
   "cell_type": "code",
   "execution_count": 8,
   "id": "f1b57a97-0b2b-4671-ac0b-25a450b32b08",
   "metadata": {},
   "outputs": [
    {
     "data": {
      "text/html": [
       "<div>\n",
       "<style scoped>\n",
       "    .dataframe tbody tr th:only-of-type {\n",
       "        vertical-align: middle;\n",
       "    }\n",
       "\n",
       "    .dataframe tbody tr th {\n",
       "        vertical-align: top;\n",
       "    }\n",
       "\n",
       "    .dataframe thead th {\n",
       "        text-align: right;\n",
       "    }\n",
       "</style>\n",
       "<table border=\"1\" class=\"dataframe\">\n",
       "  <thead>\n",
       "    <tr style=\"text-align: right;\">\n",
       "      <th></th>\n",
       "      <th>MedInc</th>\n",
       "      <th>HouseAge</th>\n",
       "      <th>AveRooms</th>\n",
       "      <th>AveBedrms</th>\n",
       "      <th>Population</th>\n",
       "      <th>AveOccup</th>\n",
       "      <th>Latitude</th>\n",
       "      <th>Longitude</th>\n",
       "    </tr>\n",
       "  </thead>\n",
       "  <tbody>\n",
       "    <tr>\n",
       "      <th>0</th>\n",
       "      <td>8.3252</td>\n",
       "      <td>41.0</td>\n",
       "      <td>6.984127</td>\n",
       "      <td>1.023810</td>\n",
       "      <td>322.0</td>\n",
       "      <td>2.555556</td>\n",
       "      <td>37.88</td>\n",
       "      <td>-122.23</td>\n",
       "    </tr>\n",
       "    <tr>\n",
       "      <th>1</th>\n",
       "      <td>8.3014</td>\n",
       "      <td>21.0</td>\n",
       "      <td>6.238137</td>\n",
       "      <td>0.971880</td>\n",
       "      <td>2401.0</td>\n",
       "      <td>2.109842</td>\n",
       "      <td>37.86</td>\n",
       "      <td>-122.22</td>\n",
       "    </tr>\n",
       "    <tr>\n",
       "      <th>2</th>\n",
       "      <td>7.2574</td>\n",
       "      <td>52.0</td>\n",
       "      <td>8.288136</td>\n",
       "      <td>1.073446</td>\n",
       "      <td>496.0</td>\n",
       "      <td>2.802260</td>\n",
       "      <td>37.85</td>\n",
       "      <td>-122.24</td>\n",
       "    </tr>\n",
       "    <tr>\n",
       "      <th>3</th>\n",
       "      <td>5.6431</td>\n",
       "      <td>52.0</td>\n",
       "      <td>5.817352</td>\n",
       "      <td>1.073059</td>\n",
       "      <td>558.0</td>\n",
       "      <td>2.547945</td>\n",
       "      <td>37.85</td>\n",
       "      <td>-122.25</td>\n",
       "    </tr>\n",
       "    <tr>\n",
       "      <th>4</th>\n",
       "      <td>3.8462</td>\n",
       "      <td>52.0</td>\n",
       "      <td>6.281853</td>\n",
       "      <td>1.081081</td>\n",
       "      <td>565.0</td>\n",
       "      <td>2.181467</td>\n",
       "      <td>37.85</td>\n",
       "      <td>-122.25</td>\n",
       "    </tr>\n",
       "  </tbody>\n",
       "</table>\n",
       "</div>"
      ],
      "text/plain": [
       "   MedInc  HouseAge  AveRooms  AveBedrms  Population  AveOccup  Latitude  \\\n",
       "0  8.3252      41.0  6.984127   1.023810       322.0  2.555556     37.88   \n",
       "1  8.3014      21.0  6.238137   0.971880      2401.0  2.109842     37.86   \n",
       "2  7.2574      52.0  8.288136   1.073446       496.0  2.802260     37.85   \n",
       "3  5.6431      52.0  5.817352   1.073059       558.0  2.547945     37.85   \n",
       "4  3.8462      52.0  6.281853   1.081081       565.0  2.181467     37.85   \n",
       "\n",
       "   Longitude  \n",
       "0    -122.23  \n",
       "1    -122.22  \n",
       "2    -122.24  \n",
       "3    -122.25  \n",
       "4    -122.25  "
      ]
     },
     "execution_count": 8,
     "metadata": {},
     "output_type": "execute_result"
    }
   ],
   "source": [
    "df.head()"
   ]
  },
  {
   "cell_type": "code",
   "execution_count": 9,
   "id": "7a228c91-d2eb-4123-9f48-56b0371a0f36",
   "metadata": {},
   "outputs": [
    {
     "data": {
      "text/plain": [
       "(20640, 8)"
      ]
     },
     "execution_count": 9,
     "metadata": {},
     "output_type": "execute_result"
    }
   ],
   "source": [
    "df.shape"
   ]
  },
  {
   "cell_type": "markdown",
   "id": "9e8b43a4-023e-4822-ba1b-92352a857772",
   "metadata": {},
   "source": [
    "#### Add target to df"
   ]
  },
  {
   "cell_type": "code",
   "execution_count": 10,
   "id": "27eaa9c8-cdfd-48b8-900b-32af19a27bae",
   "metadata": {},
   "outputs": [],
   "source": [
    "df[\"target\"] = data['target']"
   ]
  },
  {
   "cell_type": "code",
   "execution_count": 11,
   "id": "ebca7df4-c068-47e3-a26a-eb242a064ff4",
   "metadata": {},
   "outputs": [
    {
     "data": {
      "text/html": [
       "<div>\n",
       "<style scoped>\n",
       "    .dataframe tbody tr th:only-of-type {\n",
       "        vertical-align: middle;\n",
       "    }\n",
       "\n",
       "    .dataframe tbody tr th {\n",
       "        vertical-align: top;\n",
       "    }\n",
       "\n",
       "    .dataframe thead th {\n",
       "        text-align: right;\n",
       "    }\n",
       "</style>\n",
       "<table border=\"1\" class=\"dataframe\">\n",
       "  <thead>\n",
       "    <tr style=\"text-align: right;\">\n",
       "      <th></th>\n",
       "      <th>MedInc</th>\n",
       "      <th>HouseAge</th>\n",
       "      <th>AveRooms</th>\n",
       "      <th>AveBedrms</th>\n",
       "      <th>Population</th>\n",
       "      <th>AveOccup</th>\n",
       "      <th>Latitude</th>\n",
       "      <th>Longitude</th>\n",
       "      <th>target</th>\n",
       "    </tr>\n",
       "  </thead>\n",
       "  <tbody>\n",
       "    <tr>\n",
       "      <th>0</th>\n",
       "      <td>8.3252</td>\n",
       "      <td>41.0</td>\n",
       "      <td>6.984127</td>\n",
       "      <td>1.023810</td>\n",
       "      <td>322.0</td>\n",
       "      <td>2.555556</td>\n",
       "      <td>37.88</td>\n",
       "      <td>-122.23</td>\n",
       "      <td>4.526</td>\n",
       "    </tr>\n",
       "    <tr>\n",
       "      <th>1</th>\n",
       "      <td>8.3014</td>\n",
       "      <td>21.0</td>\n",
       "      <td>6.238137</td>\n",
       "      <td>0.971880</td>\n",
       "      <td>2401.0</td>\n",
       "      <td>2.109842</td>\n",
       "      <td>37.86</td>\n",
       "      <td>-122.22</td>\n",
       "      <td>3.585</td>\n",
       "    </tr>\n",
       "    <tr>\n",
       "      <th>2</th>\n",
       "      <td>7.2574</td>\n",
       "      <td>52.0</td>\n",
       "      <td>8.288136</td>\n",
       "      <td>1.073446</td>\n",
       "      <td>496.0</td>\n",
       "      <td>2.802260</td>\n",
       "      <td>37.85</td>\n",
       "      <td>-122.24</td>\n",
       "      <td>3.521</td>\n",
       "    </tr>\n",
       "    <tr>\n",
       "      <th>3</th>\n",
       "      <td>5.6431</td>\n",
       "      <td>52.0</td>\n",
       "      <td>5.817352</td>\n",
       "      <td>1.073059</td>\n",
       "      <td>558.0</td>\n",
       "      <td>2.547945</td>\n",
       "      <td>37.85</td>\n",
       "      <td>-122.25</td>\n",
       "      <td>3.413</td>\n",
       "    </tr>\n",
       "    <tr>\n",
       "      <th>4</th>\n",
       "      <td>3.8462</td>\n",
       "      <td>52.0</td>\n",
       "      <td>6.281853</td>\n",
       "      <td>1.081081</td>\n",
       "      <td>565.0</td>\n",
       "      <td>2.181467</td>\n",
       "      <td>37.85</td>\n",
       "      <td>-122.25</td>\n",
       "      <td>3.422</td>\n",
       "    </tr>\n",
       "  </tbody>\n",
       "</table>\n",
       "</div>"
      ],
      "text/plain": [
       "   MedInc  HouseAge  AveRooms  AveBedrms  Population  AveOccup  Latitude  \\\n",
       "0  8.3252      41.0  6.984127   1.023810       322.0  2.555556     37.88   \n",
       "1  8.3014      21.0  6.238137   0.971880      2401.0  2.109842     37.86   \n",
       "2  7.2574      52.0  8.288136   1.073446       496.0  2.802260     37.85   \n",
       "3  5.6431      52.0  5.817352   1.073059       558.0  2.547945     37.85   \n",
       "4  3.8462      52.0  6.281853   1.081081       565.0  2.181467     37.85   \n",
       "\n",
       "   Longitude  target  \n",
       "0    -122.23   4.526  \n",
       "1    -122.22   3.585  \n",
       "2    -122.24   3.521  \n",
       "3    -122.25   3.413  \n",
       "4    -122.25   3.422  "
      ]
     },
     "execution_count": 11,
     "metadata": {},
     "output_type": "execute_result"
    }
   ],
   "source": [
    "df.head()"
   ]
  },
  {
   "cell_type": "code",
   "execution_count": 12,
   "id": "af1e134c-44ea-4aa8-99fa-4f19e7360156",
   "metadata": {},
   "outputs": [
    {
     "data": {
      "text/plain": [
       "(20640, 9)"
      ]
     },
     "execution_count": 12,
     "metadata": {},
     "output_type": "execute_result"
    }
   ],
   "source": [
    "# NOTE: 1 additional column\n",
    "df.shape"
   ]
  },
  {
   "cell_type": "markdown",
   "id": "328535b0-c5f3-418c-8138-244badff5a9e",
   "metadata": {},
   "source": [
    "#### df Overview"
   ]
  },
  {
   "cell_type": "code",
   "execution_count": 13,
   "id": "eb1c1bdc-ac50-4ac7-acb4-cd24953a737f",
   "metadata": {},
   "outputs": [
    {
     "name": "stdout",
     "output_type": "stream",
     "text": [
      "<class 'pandas.core.frame.DataFrame'>\n",
      "RangeIndex: 20640 entries, 0 to 20639\n",
      "Data columns (total 9 columns):\n",
      " #   Column      Non-Null Count  Dtype  \n",
      "---  ------      --------------  -----  \n",
      " 0   MedInc      20640 non-null  float64\n",
      " 1   HouseAge    20640 non-null  float64\n",
      " 2   AveRooms    20640 non-null  float64\n",
      " 3   AveBedrms   20640 non-null  float64\n",
      " 4   Population  20640 non-null  float64\n",
      " 5   AveOccup    20640 non-null  float64\n",
      " 6   Latitude    20640 non-null  float64\n",
      " 7   Longitude   20640 non-null  float64\n",
      " 8   target      20640 non-null  float64\n",
      "dtypes: float64(9)\n",
      "memory usage: 1.4 MB\n"
     ]
    }
   ],
   "source": [
    "# Built-in pandas function\n",
    "df.info()"
   ]
  },
  {
   "cell_type": "code",
   "execution_count": 14,
   "id": "9e08ae3b-6ded-4c46-8a5e-03d9ba862413",
   "metadata": {},
   "outputs": [
    {
     "data": {
      "text/html": [
       "<div>\n",
       "<style scoped>\n",
       "    .dataframe tbody tr th:only-of-type {\n",
       "        vertical-align: middle;\n",
       "    }\n",
       "\n",
       "    .dataframe tbody tr th {\n",
       "        vertical-align: top;\n",
       "    }\n",
       "\n",
       "    .dataframe thead th {\n",
       "        text-align: right;\n",
       "    }\n",
       "</style>\n",
       "<table border=\"1\" class=\"dataframe\">\n",
       "  <thead>\n",
       "    <tr style=\"text-align: right;\">\n",
       "      <th></th>\n",
       "      <th>MedInc</th>\n",
       "      <th>HouseAge</th>\n",
       "      <th>AveRooms</th>\n",
       "      <th>AveBedrms</th>\n",
       "      <th>Population</th>\n",
       "      <th>AveOccup</th>\n",
       "      <th>Latitude</th>\n",
       "      <th>Longitude</th>\n",
       "      <th>target</th>\n",
       "    </tr>\n",
       "  </thead>\n",
       "  <tbody>\n",
       "    <tr>\n",
       "      <th>count</th>\n",
       "      <td>20640.000000</td>\n",
       "      <td>20640.000000</td>\n",
       "      <td>20640.000000</td>\n",
       "      <td>20640.000000</td>\n",
       "      <td>20640.000000</td>\n",
       "      <td>20640.000000</td>\n",
       "      <td>20640.000000</td>\n",
       "      <td>20640.000000</td>\n",
       "      <td>20640.000000</td>\n",
       "    </tr>\n",
       "    <tr>\n",
       "      <th>mean</th>\n",
       "      <td>3.870671</td>\n",
       "      <td>28.639486</td>\n",
       "      <td>5.429000</td>\n",
       "      <td>1.096675</td>\n",
       "      <td>1425.476744</td>\n",
       "      <td>3.070655</td>\n",
       "      <td>35.631861</td>\n",
       "      <td>-119.569704</td>\n",
       "      <td>2.068558</td>\n",
       "    </tr>\n",
       "    <tr>\n",
       "      <th>std</th>\n",
       "      <td>1.899822</td>\n",
       "      <td>12.585558</td>\n",
       "      <td>2.474173</td>\n",
       "      <td>0.473911</td>\n",
       "      <td>1132.462122</td>\n",
       "      <td>10.386050</td>\n",
       "      <td>2.135952</td>\n",
       "      <td>2.003532</td>\n",
       "      <td>1.153956</td>\n",
       "    </tr>\n",
       "    <tr>\n",
       "      <th>min</th>\n",
       "      <td>0.499900</td>\n",
       "      <td>1.000000</td>\n",
       "      <td>0.846154</td>\n",
       "      <td>0.333333</td>\n",
       "      <td>3.000000</td>\n",
       "      <td>0.692308</td>\n",
       "      <td>32.540000</td>\n",
       "      <td>-124.350000</td>\n",
       "      <td>0.149990</td>\n",
       "    </tr>\n",
       "    <tr>\n",
       "      <th>25%</th>\n",
       "      <td>2.563400</td>\n",
       "      <td>18.000000</td>\n",
       "      <td>4.440716</td>\n",
       "      <td>1.006079</td>\n",
       "      <td>787.000000</td>\n",
       "      <td>2.429741</td>\n",
       "      <td>33.930000</td>\n",
       "      <td>-121.800000</td>\n",
       "      <td>1.196000</td>\n",
       "    </tr>\n",
       "    <tr>\n",
       "      <th>50%</th>\n",
       "      <td>3.534800</td>\n",
       "      <td>29.000000</td>\n",
       "      <td>5.229129</td>\n",
       "      <td>1.048780</td>\n",
       "      <td>1166.000000</td>\n",
       "      <td>2.818116</td>\n",
       "      <td>34.260000</td>\n",
       "      <td>-118.490000</td>\n",
       "      <td>1.797000</td>\n",
       "    </tr>\n",
       "    <tr>\n",
       "      <th>75%</th>\n",
       "      <td>4.743250</td>\n",
       "      <td>37.000000</td>\n",
       "      <td>6.052381</td>\n",
       "      <td>1.099526</td>\n",
       "      <td>1725.000000</td>\n",
       "      <td>3.282261</td>\n",
       "      <td>37.710000</td>\n",
       "      <td>-118.010000</td>\n",
       "      <td>2.647250</td>\n",
       "    </tr>\n",
       "    <tr>\n",
       "      <th>max</th>\n",
       "      <td>15.000100</td>\n",
       "      <td>52.000000</td>\n",
       "      <td>141.909091</td>\n",
       "      <td>34.066667</td>\n",
       "      <td>35682.000000</td>\n",
       "      <td>1243.333333</td>\n",
       "      <td>41.950000</td>\n",
       "      <td>-114.310000</td>\n",
       "      <td>5.000010</td>\n",
       "    </tr>\n",
       "  </tbody>\n",
       "</table>\n",
       "</div>"
      ],
      "text/plain": [
       "             MedInc      HouseAge      AveRooms     AveBedrms    Population  \\\n",
       "count  20640.000000  20640.000000  20640.000000  20640.000000  20640.000000   \n",
       "mean       3.870671     28.639486      5.429000      1.096675   1425.476744   \n",
       "std        1.899822     12.585558      2.474173      0.473911   1132.462122   \n",
       "min        0.499900      1.000000      0.846154      0.333333      3.000000   \n",
       "25%        2.563400     18.000000      4.440716      1.006079    787.000000   \n",
       "50%        3.534800     29.000000      5.229129      1.048780   1166.000000   \n",
       "75%        4.743250     37.000000      6.052381      1.099526   1725.000000   \n",
       "max       15.000100     52.000000    141.909091     34.066667  35682.000000   \n",
       "\n",
       "           AveOccup      Latitude     Longitude        target  \n",
       "count  20640.000000  20640.000000  20640.000000  20640.000000  \n",
       "mean       3.070655     35.631861   -119.569704      2.068558  \n",
       "std       10.386050      2.135952      2.003532      1.153956  \n",
       "min        0.692308     32.540000   -124.350000      0.149990  \n",
       "25%        2.429741     33.930000   -121.800000      1.196000  \n",
       "50%        2.818116     34.260000   -118.490000      1.797000  \n",
       "75%        3.282261     37.710000   -118.010000      2.647250  \n",
       "max     1243.333333     41.950000   -114.310000      5.000010  "
      ]
     },
     "execution_count": 14,
     "metadata": {},
     "output_type": "execute_result"
    }
   ],
   "source": [
    "df.describe()"
   ]
  },
  {
   "cell_type": "code",
   "execution_count": 15,
   "id": "816b80ed-28a7-4ab0-8d0b-1abc4a7b5cbb",
   "metadata": {},
   "outputs": [
    {
     "data": {
      "text/html": [
       "<pre style=\"white-space:pre;overflow-x:auto;line-height:normal;font-family:Menlo,'DejaVu Sans Mono',consolas,'Courier New',monospace\">╭──────────────────────────────────────────────── skimpy summary ─────────────────────────────────────────────────╮\n",
       "│ <span style=\"font-style: italic\">         Data Summary         </span> <span style=\"font-style: italic\">      Data Types       </span>                                                          │\n",
       "│ ┏━━━━━━━━━━━━━━━━━━━┳━━━━━━━━┓ ┏━━━━━━━━━━━━━┳━━━━━━━┓                                                          │\n",
       "│ ┃<span style=\"color: #008080; text-decoration-color: #008080; font-weight: bold\"> Dataframe         </span>┃<span style=\"color: #008080; text-decoration-color: #008080; font-weight: bold\"> Values </span>┃ ┃<span style=\"color: #008080; text-decoration-color: #008080; font-weight: bold\"> Column Type </span>┃<span style=\"color: #008080; text-decoration-color: #008080; font-weight: bold\"> Count </span>┃                                                          │\n",
       "│ ┡━━━━━━━━━━━━━━━━━━━╇━━━━━━━━┩ ┡━━━━━━━━━━━━━╇━━━━━━━┩                                                          │\n",
       "│ │ Number of rows    │ 20640  │ │ float64     │ 9     │                                                          │\n",
       "│ │ Number of columns │ 9      │ └─────────────┴───────┘                                                          │\n",
       "│ └───────────────────┴────────┘                                                                                  │\n",
       "│ <span style=\"font-style: italic\">                                                    number                                                    </span>  │\n",
       "│ ┏━━━━━━━━━━━━━━┳━━━━━┳━━━━━━━┳━━━━━━━━━━┳━━━━━━━━━━┳━━━━━━━━━┳━━━━━━━━━┳━━━━━━━━━┳━━━━━━━━┳━━━━━━━━━┳━━━━━━━━┓  │\n",
       "│ ┃<span style=\"font-weight: bold\"> column       </span>┃<span style=\"font-weight: bold\"> NA  </span>┃<span style=\"font-weight: bold\"> NA %  </span>┃<span style=\"font-weight: bold\"> mean     </span>┃<span style=\"font-weight: bold\"> sd       </span>┃<span style=\"font-weight: bold\"> p0      </span>┃<span style=\"font-weight: bold\"> p25     </span>┃<span style=\"font-weight: bold\"> p50     </span>┃<span style=\"font-weight: bold\"> p75    </span>┃<span style=\"font-weight: bold\"> p100    </span>┃<span style=\"font-weight: bold\"> hist   </span>┃  │\n",
       "│ ┡━━━━━━━━━━━━━━╇━━━━━╇━━━━━━━╇━━━━━━━━━━╇━━━━━━━━━━╇━━━━━━━━━╇━━━━━━━━━╇━━━━━━━━━╇━━━━━━━━╇━━━━━━━━━╇━━━━━━━━┩  │\n",
       "│ │ <span style=\"color: #af87ff; text-decoration-color: #af87ff\">MedInc      </span> │ <span style=\"color: #008080; text-decoration-color: #008080\">  0</span> │ <span style=\"color: #008080; text-decoration-color: #008080\">    0</span> │ <span style=\"color: #008080; text-decoration-color: #008080\">   3.871</span> │ <span style=\"color: #008080; text-decoration-color: #008080\">     1.9</span> │ <span style=\"color: #008080; text-decoration-color: #008080\"> 0.4999</span> │ <span style=\"color: #008080; text-decoration-color: #008080\">  2.563</span> │ <span style=\"color: #008080; text-decoration-color: #008080\">  3.535</span> │ <span style=\"color: #008080; text-decoration-color: #008080\"> 4.743</span> │ <span style=\"color: #008080; text-decoration-color: #008080\">     15</span> │ <span style=\"color: #008000; text-decoration-color: #008000\"> ▆█▂  </span> │  │\n",
       "│ │ <span style=\"color: #af87ff; text-decoration-color: #af87ff\">HouseAge    </span> │ <span style=\"color: #008080; text-decoration-color: #008080\">  0</span> │ <span style=\"color: #008080; text-decoration-color: #008080\">    0</span> │ <span style=\"color: #008080; text-decoration-color: #008080\">   28.64</span> │ <span style=\"color: #008080; text-decoration-color: #008080\">   12.59</span> │ <span style=\"color: #008080; text-decoration-color: #008080\">      1</span> │ <span style=\"color: #008080; text-decoration-color: #008080\">     18</span> │ <span style=\"color: #008080; text-decoration-color: #008080\">     29</span> │ <span style=\"color: #008080; text-decoration-color: #008080\">    37</span> │ <span style=\"color: #008080; text-decoration-color: #008080\">     52</span> │ <span style=\"color: #008000; text-decoration-color: #008000\">▂▆███▅</span> │  │\n",
       "│ │ <span style=\"color: #af87ff; text-decoration-color: #af87ff\">AveRooms    </span> │ <span style=\"color: #008080; text-decoration-color: #008080\">  0</span> │ <span style=\"color: #008080; text-decoration-color: #008080\">    0</span> │ <span style=\"color: #008080; text-decoration-color: #008080\">   5.429</span> │ <span style=\"color: #008080; text-decoration-color: #008080\">   2.474</span> │ <span style=\"color: #008080; text-decoration-color: #008080\"> 0.8462</span> │ <span style=\"color: #008080; text-decoration-color: #008080\">  4.441</span> │ <span style=\"color: #008080; text-decoration-color: #008080\">  5.229</span> │ <span style=\"color: #008080; text-decoration-color: #008080\"> 6.052</span> │ <span style=\"color: #008080; text-decoration-color: #008080\">  141.9</span> │ <span style=\"color: #008000; text-decoration-color: #008000\">  █   </span> │  │\n",
       "│ │ <span style=\"color: #af87ff; text-decoration-color: #af87ff\">AveBedrms   </span> │ <span style=\"color: #008080; text-decoration-color: #008080\">  0</span> │ <span style=\"color: #008080; text-decoration-color: #008080\">    0</span> │ <span style=\"color: #008080; text-decoration-color: #008080\">   1.097</span> │ <span style=\"color: #008080; text-decoration-color: #008080\">  0.4739</span> │ <span style=\"color: #008080; text-decoration-color: #008080\"> 0.3333</span> │ <span style=\"color: #008080; text-decoration-color: #008080\">  1.006</span> │ <span style=\"color: #008080; text-decoration-color: #008080\">  1.049</span> │ <span style=\"color: #008080; text-decoration-color: #008080\">   1.1</span> │ <span style=\"color: #008080; text-decoration-color: #008080\">  34.07</span> │ <span style=\"color: #008000; text-decoration-color: #008000\">  █   </span> │  │\n",
       "│ │ <span style=\"color: #af87ff; text-decoration-color: #af87ff\">Population  </span> │ <span style=\"color: #008080; text-decoration-color: #008080\">  0</span> │ <span style=\"color: #008080; text-decoration-color: #008080\">    0</span> │ <span style=\"color: #008080; text-decoration-color: #008080\">    1425</span> │ <span style=\"color: #008080; text-decoration-color: #008080\">    1132</span> │ <span style=\"color: #008080; text-decoration-color: #008080\">      3</span> │ <span style=\"color: #008080; text-decoration-color: #008080\">    787</span> │ <span style=\"color: #008080; text-decoration-color: #008080\">   1166</span> │ <span style=\"color: #008080; text-decoration-color: #008080\">  1725</span> │ <span style=\"color: #008080; text-decoration-color: #008080\">  35680</span> │ <span style=\"color: #008000; text-decoration-color: #008000\">  █   </span> │  │\n",
       "│ │ <span style=\"color: #af87ff; text-decoration-color: #af87ff\">AveOccup    </span> │ <span style=\"color: #008080; text-decoration-color: #008080\">  0</span> │ <span style=\"color: #008080; text-decoration-color: #008080\">    0</span> │ <span style=\"color: #008080; text-decoration-color: #008080\">   3.071</span> │ <span style=\"color: #008080; text-decoration-color: #008080\">   10.39</span> │ <span style=\"color: #008080; text-decoration-color: #008080\"> 0.6923</span> │ <span style=\"color: #008080; text-decoration-color: #008080\">   2.43</span> │ <span style=\"color: #008080; text-decoration-color: #008080\">  2.818</span> │ <span style=\"color: #008080; text-decoration-color: #008080\"> 3.282</span> │ <span style=\"color: #008080; text-decoration-color: #008080\">   1243</span> │ <span style=\"color: #008000; text-decoration-color: #008000\">  █   </span> │  │\n",
       "│ │ <span style=\"color: #af87ff; text-decoration-color: #af87ff\">Latitude    </span> │ <span style=\"color: #008080; text-decoration-color: #008080\">  0</span> │ <span style=\"color: #008080; text-decoration-color: #008080\">    0</span> │ <span style=\"color: #008080; text-decoration-color: #008080\">   35.63</span> │ <span style=\"color: #008080; text-decoration-color: #008080\">   2.136</span> │ <span style=\"color: #008080; text-decoration-color: #008080\">  32.54</span> │ <span style=\"color: #008080; text-decoration-color: #008080\">  33.93</span> │ <span style=\"color: #008080; text-decoration-color: #008080\">  34.26</span> │ <span style=\"color: #008080; text-decoration-color: #008080\"> 37.71</span> │ <span style=\"color: #008080; text-decoration-color: #008080\">  41.95</span> │ <span style=\"color: #008000; text-decoration-color: #008000\">█▃▁▆▁ </span> │  │\n",
       "│ │ <span style=\"color: #af87ff; text-decoration-color: #af87ff\">Longitude   </span> │ <span style=\"color: #008080; text-decoration-color: #008080\">  0</span> │ <span style=\"color: #008080; text-decoration-color: #008080\">    0</span> │ <span style=\"color: #008080; text-decoration-color: #008080\">  -119.6</span> │ <span style=\"color: #008080; text-decoration-color: #008080\">   2.004</span> │ <span style=\"color: #008080; text-decoration-color: #008080\"> -124.3</span> │ <span style=\"color: #008080; text-decoration-color: #008080\"> -121.8</span> │ <span style=\"color: #008080; text-decoration-color: #008080\"> -118.5</span> │ <span style=\"color: #008080; text-decoration-color: #008080\">  -118</span> │ <span style=\"color: #008080; text-decoration-color: #008080\"> -114.3</span> │ <span style=\"color: #008000; text-decoration-color: #008000\">▁▆▂█▃ </span> │  │\n",
       "│ │ <span style=\"color: #af87ff; text-decoration-color: #af87ff\">target      </span> │ <span style=\"color: #008080; text-decoration-color: #008080\">  0</span> │ <span style=\"color: #008080; text-decoration-color: #008080\">    0</span> │ <span style=\"color: #008080; text-decoration-color: #008080\">   2.069</span> │ <span style=\"color: #008080; text-decoration-color: #008080\">   1.154</span> │ <span style=\"color: #008080; text-decoration-color: #008080\">   0.15</span> │ <span style=\"color: #008080; text-decoration-color: #008080\">  1.196</span> │ <span style=\"color: #008080; text-decoration-color: #008080\">  1.797</span> │ <span style=\"color: #008080; text-decoration-color: #008080\"> 2.647</span> │ <span style=\"color: #008080; text-decoration-color: #008080\">      5</span> │ <span style=\"color: #008000; text-decoration-color: #008000\">▄█▆▃▂▂</span> │  │\n",
       "│ └──────────────┴─────┴───────┴──────────┴──────────┴─────────┴─────────┴─────────┴────────┴─────────┴────────┘  │\n",
       "╰────────────────────────────────────────────────────── End ──────────────────────────────────────────────────────╯\n",
       "</pre>\n"
      ],
      "text/plain": [
       "╭──────────────────────────────────────────────── skimpy summary ─────────────────────────────────────────────────╮\n",
       "│ \u001b[3m         Data Summary         \u001b[0m \u001b[3m      Data Types       \u001b[0m                                                          │\n",
       "│ ┏━━━━━━━━━━━━━━━━━━━┳━━━━━━━━┓ ┏━━━━━━━━━━━━━┳━━━━━━━┓                                                          │\n",
       "│ ┃\u001b[1;36m \u001b[0m\u001b[1;36mDataframe        \u001b[0m\u001b[1;36m \u001b[0m┃\u001b[1;36m \u001b[0m\u001b[1;36mValues\u001b[0m\u001b[1;36m \u001b[0m┃ ┃\u001b[1;36m \u001b[0m\u001b[1;36mColumn Type\u001b[0m\u001b[1;36m \u001b[0m┃\u001b[1;36m \u001b[0m\u001b[1;36mCount\u001b[0m\u001b[1;36m \u001b[0m┃                                                          │\n",
       "│ ┡━━━━━━━━━━━━━━━━━━━╇━━━━━━━━┩ ┡━━━━━━━━━━━━━╇━━━━━━━┩                                                          │\n",
       "│ │ Number of rows    │ 20640  │ │ float64     │ 9     │                                                          │\n",
       "│ │ Number of columns │ 9      │ └─────────────┴───────┘                                                          │\n",
       "│ └───────────────────┴────────┘                                                                                  │\n",
       "│ \u001b[3m                                                    number                                                    \u001b[0m  │\n",
       "│ ┏━━━━━━━━━━━━━━┳━━━━━┳━━━━━━━┳━━━━━━━━━━┳━━━━━━━━━━┳━━━━━━━━━┳━━━━━━━━━┳━━━━━━━━━┳━━━━━━━━┳━━━━━━━━━┳━━━━━━━━┓  │\n",
       "│ ┃\u001b[1m \u001b[0m\u001b[1mcolumn      \u001b[0m\u001b[1m \u001b[0m┃\u001b[1m \u001b[0m\u001b[1mNA \u001b[0m\u001b[1m \u001b[0m┃\u001b[1m \u001b[0m\u001b[1mNA % \u001b[0m\u001b[1m \u001b[0m┃\u001b[1m \u001b[0m\u001b[1mmean    \u001b[0m\u001b[1m \u001b[0m┃\u001b[1m \u001b[0m\u001b[1msd      \u001b[0m\u001b[1m \u001b[0m┃\u001b[1m \u001b[0m\u001b[1mp0     \u001b[0m\u001b[1m \u001b[0m┃\u001b[1m \u001b[0m\u001b[1mp25    \u001b[0m\u001b[1m \u001b[0m┃\u001b[1m \u001b[0m\u001b[1mp50    \u001b[0m\u001b[1m \u001b[0m┃\u001b[1m \u001b[0m\u001b[1mp75   \u001b[0m\u001b[1m \u001b[0m┃\u001b[1m \u001b[0m\u001b[1mp100   \u001b[0m\u001b[1m \u001b[0m┃\u001b[1m \u001b[0m\u001b[1mhist  \u001b[0m\u001b[1m \u001b[0m┃  │\n",
       "│ ┡━━━━━━━━━━━━━━╇━━━━━╇━━━━━━━╇━━━━━━━━━━╇━━━━━━━━━━╇━━━━━━━━━╇━━━━━━━━━╇━━━━━━━━━╇━━━━━━━━╇━━━━━━━━━╇━━━━━━━━┩  │\n",
       "│ │ \u001b[38;5;141mMedInc      \u001b[0m │ \u001b[36m  0\u001b[0m │ \u001b[36m    0\u001b[0m │ \u001b[36m   3.871\u001b[0m │ \u001b[36m     1.9\u001b[0m │ \u001b[36m 0.4999\u001b[0m │ \u001b[36m  2.563\u001b[0m │ \u001b[36m  3.535\u001b[0m │ \u001b[36m 4.743\u001b[0m │ \u001b[36m     15\u001b[0m │ \u001b[32m ▆█▂  \u001b[0m │  │\n",
       "│ │ \u001b[38;5;141mHouseAge    \u001b[0m │ \u001b[36m  0\u001b[0m │ \u001b[36m    0\u001b[0m │ \u001b[36m   28.64\u001b[0m │ \u001b[36m   12.59\u001b[0m │ \u001b[36m      1\u001b[0m │ \u001b[36m     18\u001b[0m │ \u001b[36m     29\u001b[0m │ \u001b[36m    37\u001b[0m │ \u001b[36m     52\u001b[0m │ \u001b[32m▂▆███▅\u001b[0m │  │\n",
       "│ │ \u001b[38;5;141mAveRooms    \u001b[0m │ \u001b[36m  0\u001b[0m │ \u001b[36m    0\u001b[0m │ \u001b[36m   5.429\u001b[0m │ \u001b[36m   2.474\u001b[0m │ \u001b[36m 0.8462\u001b[0m │ \u001b[36m  4.441\u001b[0m │ \u001b[36m  5.229\u001b[0m │ \u001b[36m 6.052\u001b[0m │ \u001b[36m  141.9\u001b[0m │ \u001b[32m  █   \u001b[0m │  │\n",
       "│ │ \u001b[38;5;141mAveBedrms   \u001b[0m │ \u001b[36m  0\u001b[0m │ \u001b[36m    0\u001b[0m │ \u001b[36m   1.097\u001b[0m │ \u001b[36m  0.4739\u001b[0m │ \u001b[36m 0.3333\u001b[0m │ \u001b[36m  1.006\u001b[0m │ \u001b[36m  1.049\u001b[0m │ \u001b[36m   1.1\u001b[0m │ \u001b[36m  34.07\u001b[0m │ \u001b[32m  █   \u001b[0m │  │\n",
       "│ │ \u001b[38;5;141mPopulation  \u001b[0m │ \u001b[36m  0\u001b[0m │ \u001b[36m    0\u001b[0m │ \u001b[36m    1425\u001b[0m │ \u001b[36m    1132\u001b[0m │ \u001b[36m      3\u001b[0m │ \u001b[36m    787\u001b[0m │ \u001b[36m   1166\u001b[0m │ \u001b[36m  1725\u001b[0m │ \u001b[36m  35680\u001b[0m │ \u001b[32m  █   \u001b[0m │  │\n",
       "│ │ \u001b[38;5;141mAveOccup    \u001b[0m │ \u001b[36m  0\u001b[0m │ \u001b[36m    0\u001b[0m │ \u001b[36m   3.071\u001b[0m │ \u001b[36m   10.39\u001b[0m │ \u001b[36m 0.6923\u001b[0m │ \u001b[36m   2.43\u001b[0m │ \u001b[36m  2.818\u001b[0m │ \u001b[36m 3.282\u001b[0m │ \u001b[36m   1243\u001b[0m │ \u001b[32m  █   \u001b[0m │  │\n",
       "│ │ \u001b[38;5;141mLatitude    \u001b[0m │ \u001b[36m  0\u001b[0m │ \u001b[36m    0\u001b[0m │ \u001b[36m   35.63\u001b[0m │ \u001b[36m   2.136\u001b[0m │ \u001b[36m  32.54\u001b[0m │ \u001b[36m  33.93\u001b[0m │ \u001b[36m  34.26\u001b[0m │ \u001b[36m 37.71\u001b[0m │ \u001b[36m  41.95\u001b[0m │ \u001b[32m█▃▁▆▁ \u001b[0m │  │\n",
       "│ │ \u001b[38;5;141mLongitude   \u001b[0m │ \u001b[36m  0\u001b[0m │ \u001b[36m    0\u001b[0m │ \u001b[36m  -119.6\u001b[0m │ \u001b[36m   2.004\u001b[0m │ \u001b[36m -124.3\u001b[0m │ \u001b[36m -121.8\u001b[0m │ \u001b[36m -118.5\u001b[0m │ \u001b[36m  -118\u001b[0m │ \u001b[36m -114.3\u001b[0m │ \u001b[32m▁▆▂█▃ \u001b[0m │  │\n",
       "│ │ \u001b[38;5;141mtarget      \u001b[0m │ \u001b[36m  0\u001b[0m │ \u001b[36m    0\u001b[0m │ \u001b[36m   2.069\u001b[0m │ \u001b[36m   1.154\u001b[0m │ \u001b[36m   0.15\u001b[0m │ \u001b[36m  1.196\u001b[0m │ \u001b[36m  1.797\u001b[0m │ \u001b[36m 2.647\u001b[0m │ \u001b[36m      5\u001b[0m │ \u001b[32m▄█▆▃▂▂\u001b[0m │  │\n",
       "│ └──────────────┴─────┴───────┴──────────┴──────────┴─────────┴─────────┴─────────┴────────┴─────────┴────────┘  │\n",
       "╰────────────────────────────────────────────────────── End ──────────────────────────────────────────────────────╯\n"
      ]
     },
     "metadata": {},
     "output_type": "display_data"
    }
   ],
   "source": [
    "skim(df)"
   ]
  },
  {
   "cell_type": "markdown",
   "id": "a361afe4-fd04-4d4c-89fb-ae4bc97b5004",
   "metadata": {},
   "source": [
    "## Train-Test Split\n",
    "\n",
    "Splitting data before EDA can be helpful to avoid data leakage or incorrect assumptions about what the data shows.\n",
    "\n",
    "EDA and training will use only the train data. Test data will be used for evaluation only.\n",
    "\n",
    "Note: Splitting is normally done with X (features) and y (target) separated to avoid data leakage. Here, we will training and test data and split X, y before model training. \n",
    "\n",
    "```X_train, X_test, y_train, y_test = train_test_split(X, y, test_size=0.33, random_state=42)```"
   ]
  },
  {
   "cell_type": "code",
   "execution_count": 16,
   "id": "3a1b5ead-8644-4675-b107-3beb11fc34c1",
   "metadata": {},
   "outputs": [],
   "source": [
    "train_df, test_df = train_test_split(df, test_size=0.33, random_state=42)"
   ]
  },
  {
   "cell_type": "markdown",
   "id": "c5a74f61-a7c2-412b-91cd-1b0996fe6f45",
   "metadata": {},
   "source": [
    "## EDA"
   ]
  },
  {
   "cell_type": "code",
   "execution_count": 17,
   "id": "7e889745-42f0-4cbe-905d-506a5dc21286",
   "metadata": {},
   "outputs": [
    {
     "name": "stdout",
     "output_type": "stream",
     "text": [
      "Shape of original data: (20640, 9)\n",
      "Shape of training data: (13828, 9)\n",
      "Shape of training data: (6812, 9)\n"
     ]
    }
   ],
   "source": [
    "print(f'Shape of original data: {df.shape}')\n",
    "print(f'Shape of training data: {train_df.shape}')\n",
    "print(f'Shape of training data: {test_df.shape}')"
   ]
  },
  {
   "cell_type": "code",
   "execution_count": 18,
   "id": "ffeeddcf-baef-4ce5-a6cc-84814edf36f9",
   "metadata": {},
   "outputs": [
    {
     "name": "stdout",
     "output_type": "stream",
     "text": [
      "Percent of data in training: 67%\n",
      "Percent of data in test: 33%\n"
     ]
    }
   ],
   "source": [
    "print(f'Percent of data in training: {len(train_df)/len(df):.0%}')\n",
    "print(f'Percent of data in test: {len(test_df)/len(df):.0%}')"
   ]
  },
  {
   "cell_type": "markdown",
   "id": "c668e323-6e14-44ac-bb31-1ecf093b6c3c",
   "metadata": {},
   "source": [
    "### Focus on Train for EDA\n",
    "\n",
    "It is best not to `peek` at test."
   ]
  },
  {
   "cell_type": "code",
   "execution_count": 19,
   "id": "d8736ac8-8ee1-4cbf-ad99-300a7c8d07c3",
   "metadata": {},
   "outputs": [
    {
     "data": {
      "text/html": [
       "<pre style=\"white-space:pre;overflow-x:auto;line-height:normal;font-family:Menlo,'DejaVu Sans Mono',consolas,'Courier New',monospace\">╭──────────────────────────────────────────────── skimpy summary ─────────────────────────────────────────────────╮\n",
       "│ <span style=\"font-style: italic\">         Data Summary         </span> <span style=\"font-style: italic\">      Data Types       </span>                                                          │\n",
       "│ ┏━━━━━━━━━━━━━━━━━━━┳━━━━━━━━┓ ┏━━━━━━━━━━━━━┳━━━━━━━┓                                                          │\n",
       "│ ┃<span style=\"color: #008080; text-decoration-color: #008080; font-weight: bold\"> Dataframe         </span>┃<span style=\"color: #008080; text-decoration-color: #008080; font-weight: bold\"> Values </span>┃ ┃<span style=\"color: #008080; text-decoration-color: #008080; font-weight: bold\"> Column Type </span>┃<span style=\"color: #008080; text-decoration-color: #008080; font-weight: bold\"> Count </span>┃                                                          │\n",
       "│ ┡━━━━━━━━━━━━━━━━━━━╇━━━━━━━━┩ ┡━━━━━━━━━━━━━╇━━━━━━━┩                                                          │\n",
       "│ │ Number of rows    │ 13828  │ │ float64     │ 9     │                                                          │\n",
       "│ │ Number of columns │ 9      │ └─────────────┴───────┘                                                          │\n",
       "│ └───────────────────┴────────┘                                                                                  │\n",
       "│ <span style=\"font-style: italic\">                                                    number                                                    </span>  │\n",
       "│ ┏━━━━━━━━━━━━━━┳━━━━━┳━━━━━━━┳━━━━━━━━━━┳━━━━━━━━━━┳━━━━━━━━━┳━━━━━━━━━┳━━━━━━━━━┳━━━━━━━━┳━━━━━━━━━┳━━━━━━━━┓  │\n",
       "│ ┃<span style=\"font-weight: bold\"> column       </span>┃<span style=\"font-weight: bold\"> NA  </span>┃<span style=\"font-weight: bold\"> NA %  </span>┃<span style=\"font-weight: bold\"> mean     </span>┃<span style=\"font-weight: bold\"> sd       </span>┃<span style=\"font-weight: bold\"> p0      </span>┃<span style=\"font-weight: bold\"> p25     </span>┃<span style=\"font-weight: bold\"> p50     </span>┃<span style=\"font-weight: bold\"> p75    </span>┃<span style=\"font-weight: bold\"> p100    </span>┃<span style=\"font-weight: bold\"> hist   </span>┃  │\n",
       "│ ┡━━━━━━━━━━━━━━╇━━━━━╇━━━━━━━╇━━━━━━━━━━╇━━━━━━━━━━╇━━━━━━━━━╇━━━━━━━━━╇━━━━━━━━━╇━━━━━━━━╇━━━━━━━━━╇━━━━━━━━┩  │\n",
       "│ │ <span style=\"color: #af87ff; text-decoration-color: #af87ff\">MedInc      </span> │ <span style=\"color: #008080; text-decoration-color: #008080\">  0</span> │ <span style=\"color: #008080; text-decoration-color: #008080\">    0</span> │ <span style=\"color: #008080; text-decoration-color: #008080\">   3.877</span> │ <span style=\"color: #008080; text-decoration-color: #008080\">   1.903</span> │ <span style=\"color: #008080; text-decoration-color: #008080\"> 0.4999</span> │ <span style=\"color: #008080; text-decoration-color: #008080\">  2.569</span> │ <span style=\"color: #008080; text-decoration-color: #008080\">  3.539</span> │ <span style=\"color: #008080; text-decoration-color: #008080\"> 4.757</span> │ <span style=\"color: #008080; text-decoration-color: #008080\">     15</span> │ <span style=\"color: #008000; text-decoration-color: #008000\"> ▅█▂  </span> │  │\n",
       "│ │ <span style=\"color: #af87ff; text-decoration-color: #af87ff\">HouseAge    </span> │ <span style=\"color: #008080; text-decoration-color: #008080\">  0</span> │ <span style=\"color: #008080; text-decoration-color: #008080\">    0</span> │ <span style=\"color: #008080; text-decoration-color: #008080\">   28.56</span> │ <span style=\"color: #008080; text-decoration-color: #008080\">    12.6</span> │ <span style=\"color: #008080; text-decoration-color: #008080\">      1</span> │ <span style=\"color: #008080; text-decoration-color: #008080\">     18</span> │ <span style=\"color: #008080; text-decoration-color: #008080\">     29</span> │ <span style=\"color: #008080; text-decoration-color: #008080\">    37</span> │ <span style=\"color: #008080; text-decoration-color: #008080\">     52</span> │ <span style=\"color: #008000; text-decoration-color: #008000\">▂▆███▅</span> │  │\n",
       "│ │ <span style=\"color: #af87ff; text-decoration-color: #af87ff\">AveRooms    </span> │ <span style=\"color: #008080; text-decoration-color: #008080\">  0</span> │ <span style=\"color: #008080; text-decoration-color: #008080\">    0</span> │ <span style=\"color: #008080; text-decoration-color: #008080\">   5.437</span> │ <span style=\"color: #008080; text-decoration-color: #008080\">   2.449</span> │ <span style=\"color: #008080; text-decoration-color: #008080\"> 0.8889</span> │ <span style=\"color: #008080; text-decoration-color: #008080\">   4.46</span> │ <span style=\"color: #008080; text-decoration-color: #008080\">  5.232</span> │ <span style=\"color: #008080; text-decoration-color: #008080\"> 6.059</span> │ <span style=\"color: #008080; text-decoration-color: #008080\">  141.9</span> │ <span style=\"color: #008000; text-decoration-color: #008000\">  █   </span> │  │\n",
       "│ │ <span style=\"color: #af87ff; text-decoration-color: #af87ff\">AveBedrms   </span> │ <span style=\"color: #008080; text-decoration-color: #008080\">  0</span> │ <span style=\"color: #008080; text-decoration-color: #008080\">    0</span> │ <span style=\"color: #008080; text-decoration-color: #008080\">   1.098</span> │ <span style=\"color: #008080; text-decoration-color: #008080\">  0.4457</span> │ <span style=\"color: #008080; text-decoration-color: #008080\"> 0.3333</span> │ <span style=\"color: #008080; text-decoration-color: #008080\">  1.007</span> │ <span style=\"color: #008080; text-decoration-color: #008080\">   1.05</span> │ <span style=\"color: #008080; text-decoration-color: #008080\">   1.1</span> │ <span style=\"color: #008080; text-decoration-color: #008080\">  25.64</span> │ <span style=\"color: #008000; text-decoration-color: #008000\">  █   </span> │  │\n",
       "│ │ <span style=\"color: #af87ff; text-decoration-color: #af87ff\">Population  </span> │ <span style=\"color: #008080; text-decoration-color: #008080\">  0</span> │ <span style=\"color: #008080; text-decoration-color: #008080\">    0</span> │ <span style=\"color: #008080; text-decoration-color: #008080\">    1431</span> │ <span style=\"color: #008080; text-decoration-color: #008080\">    1146</span> │ <span style=\"color: #008080; text-decoration-color: #008080\">      3</span> │ <span style=\"color: #008080; text-decoration-color: #008080\">    793</span> │ <span style=\"color: #008080; text-decoration-color: #008080\">   1170</span> │ <span style=\"color: #008080; text-decoration-color: #008080\">  1729</span> │ <span style=\"color: #008080; text-decoration-color: #008080\">  35680</span> │ <span style=\"color: #008000; text-decoration-color: #008000\">  █   </span> │  │\n",
       "│ │ <span style=\"color: #af87ff; text-decoration-color: #af87ff\">AveOccup    </span> │ <span style=\"color: #008080; text-decoration-color: #008080\">  0</span> │ <span style=\"color: #008080; text-decoration-color: #008080\">    0</span> │ <span style=\"color: #008080; text-decoration-color: #008080\">   3.129</span> │ <span style=\"color: #008080; text-decoration-color: #008080\">   12.65</span> │ <span style=\"color: #008080; text-decoration-color: #008080\"> 0.6923</span> │ <span style=\"color: #008080; text-decoration-color: #008080\">  2.432</span> │ <span style=\"color: #008080; text-decoration-color: #008080\">   2.82</span> │ <span style=\"color: #008080; text-decoration-color: #008080\"> 3.282</span> │ <span style=\"color: #008080; text-decoration-color: #008080\">   1243</span> │ <span style=\"color: #008000; text-decoration-color: #008000\">  █   </span> │  │\n",
       "│ │ <span style=\"color: #af87ff; text-decoration-color: #af87ff\">Latitude    </span> │ <span style=\"color: #008080; text-decoration-color: #008080\">  0</span> │ <span style=\"color: #008080; text-decoration-color: #008080\">    0</span> │ <span style=\"color: #008080; text-decoration-color: #008080\">   35.65</span> │ <span style=\"color: #008080; text-decoration-color: #008080\">   2.134</span> │ <span style=\"color: #008080; text-decoration-color: #008080\">  32.55</span> │ <span style=\"color: #008080; text-decoration-color: #008080\">  33.94</span> │ <span style=\"color: #008080; text-decoration-color: #008080\">  34.27</span> │ <span style=\"color: #008080; text-decoration-color: #008080\"> 37.72</span> │ <span style=\"color: #008080; text-decoration-color: #008080\">  41.95</span> │ <span style=\"color: #008000; text-decoration-color: #008000\">█▃▁▆▁ </span> │  │\n",
       "│ │ <span style=\"color: #af87ff; text-decoration-color: #af87ff\">Longitude   </span> │ <span style=\"color: #008080; text-decoration-color: #008080\">  0</span> │ <span style=\"color: #008080; text-decoration-color: #008080\">    0</span> │ <span style=\"color: #008080; text-decoration-color: #008080\">  -119.6</span> │ <span style=\"color: #008080; text-decoration-color: #008080\">   2.005</span> │ <span style=\"color: #008080; text-decoration-color: #008080\"> -124.3</span> │ <span style=\"color: #008080; text-decoration-color: #008080\"> -121.8</span> │ <span style=\"color: #008080; text-decoration-color: #008080\"> -118.5</span> │ <span style=\"color: #008080; text-decoration-color: #008080\">  -118</span> │ <span style=\"color: #008080; text-decoration-color: #008080\"> -114.3</span> │ <span style=\"color: #008000; text-decoration-color: #008000\">▁▆▂█▃ </span> │  │\n",
       "│ │ <span style=\"color: #af87ff; text-decoration-color: #af87ff\">target      </span> │ <span style=\"color: #008080; text-decoration-color: #008080\">  0</span> │ <span style=\"color: #008080; text-decoration-color: #008080\">    0</span> │ <span style=\"color: #008080; text-decoration-color: #008080\">   2.067</span> │ <span style=\"color: #008080; text-decoration-color: #008080\">   1.154</span> │ <span style=\"color: #008080; text-decoration-color: #008080\">   0.15</span> │ <span style=\"color: #008080; text-decoration-color: #008080\">  1.194</span> │ <span style=\"color: #008080; text-decoration-color: #008080\">  1.792</span> │ <span style=\"color: #008080; text-decoration-color: #008080\">  2.64</span> │ <span style=\"color: #008080; text-decoration-color: #008080\">      5</span> │ <span style=\"color: #008000; text-decoration-color: #008000\">▄█▆▃▂▂</span> │  │\n",
       "│ └──────────────┴─────┴───────┴──────────┴──────────┴─────────┴─────────┴─────────┴────────┴─────────┴────────┘  │\n",
       "╰────────────────────────────────────────────────────── End ──────────────────────────────────────────────────────╯\n",
       "</pre>\n"
      ],
      "text/plain": [
       "╭──────────────────────────────────────────────── skimpy summary ─────────────────────────────────────────────────╮\n",
       "│ \u001b[3m         Data Summary         \u001b[0m \u001b[3m      Data Types       \u001b[0m                                                          │\n",
       "│ ┏━━━━━━━━━━━━━━━━━━━┳━━━━━━━━┓ ┏━━━━━━━━━━━━━┳━━━━━━━┓                                                          │\n",
       "│ ┃\u001b[1;36m \u001b[0m\u001b[1;36mDataframe        \u001b[0m\u001b[1;36m \u001b[0m┃\u001b[1;36m \u001b[0m\u001b[1;36mValues\u001b[0m\u001b[1;36m \u001b[0m┃ ┃\u001b[1;36m \u001b[0m\u001b[1;36mColumn Type\u001b[0m\u001b[1;36m \u001b[0m┃\u001b[1;36m \u001b[0m\u001b[1;36mCount\u001b[0m\u001b[1;36m \u001b[0m┃                                                          │\n",
       "│ ┡━━━━━━━━━━━━━━━━━━━╇━━━━━━━━┩ ┡━━━━━━━━━━━━━╇━━━━━━━┩                                                          │\n",
       "│ │ Number of rows    │ 13828  │ │ float64     │ 9     │                                                          │\n",
       "│ │ Number of columns │ 9      │ └─────────────┴───────┘                                                          │\n",
       "│ └───────────────────┴────────┘                                                                                  │\n",
       "│ \u001b[3m                                                    number                                                    \u001b[0m  │\n",
       "│ ┏━━━━━━━━━━━━━━┳━━━━━┳━━━━━━━┳━━━━━━━━━━┳━━━━━━━━━━┳━━━━━━━━━┳━━━━━━━━━┳━━━━━━━━━┳━━━━━━━━┳━━━━━━━━━┳━━━━━━━━┓  │\n",
       "│ ┃\u001b[1m \u001b[0m\u001b[1mcolumn      \u001b[0m\u001b[1m \u001b[0m┃\u001b[1m \u001b[0m\u001b[1mNA \u001b[0m\u001b[1m \u001b[0m┃\u001b[1m \u001b[0m\u001b[1mNA % \u001b[0m\u001b[1m \u001b[0m┃\u001b[1m \u001b[0m\u001b[1mmean    \u001b[0m\u001b[1m \u001b[0m┃\u001b[1m \u001b[0m\u001b[1msd      \u001b[0m\u001b[1m \u001b[0m┃\u001b[1m \u001b[0m\u001b[1mp0     \u001b[0m\u001b[1m \u001b[0m┃\u001b[1m \u001b[0m\u001b[1mp25    \u001b[0m\u001b[1m \u001b[0m┃\u001b[1m \u001b[0m\u001b[1mp50    \u001b[0m\u001b[1m \u001b[0m┃\u001b[1m \u001b[0m\u001b[1mp75   \u001b[0m\u001b[1m \u001b[0m┃\u001b[1m \u001b[0m\u001b[1mp100   \u001b[0m\u001b[1m \u001b[0m┃\u001b[1m \u001b[0m\u001b[1mhist  \u001b[0m\u001b[1m \u001b[0m┃  │\n",
       "│ ┡━━━━━━━━━━━━━━╇━━━━━╇━━━━━━━╇━━━━━━━━━━╇━━━━━━━━━━╇━━━━━━━━━╇━━━━━━━━━╇━━━━━━━━━╇━━━━━━━━╇━━━━━━━━━╇━━━━━━━━┩  │\n",
       "│ │ \u001b[38;5;141mMedInc      \u001b[0m │ \u001b[36m  0\u001b[0m │ \u001b[36m    0\u001b[0m │ \u001b[36m   3.877\u001b[0m │ \u001b[36m   1.903\u001b[0m │ \u001b[36m 0.4999\u001b[0m │ \u001b[36m  2.569\u001b[0m │ \u001b[36m  3.539\u001b[0m │ \u001b[36m 4.757\u001b[0m │ \u001b[36m     15\u001b[0m │ \u001b[32m ▅█▂  \u001b[0m │  │\n",
       "│ │ \u001b[38;5;141mHouseAge    \u001b[0m │ \u001b[36m  0\u001b[0m │ \u001b[36m    0\u001b[0m │ \u001b[36m   28.56\u001b[0m │ \u001b[36m    12.6\u001b[0m │ \u001b[36m      1\u001b[0m │ \u001b[36m     18\u001b[0m │ \u001b[36m     29\u001b[0m │ \u001b[36m    37\u001b[0m │ \u001b[36m     52\u001b[0m │ \u001b[32m▂▆███▅\u001b[0m │  │\n",
       "│ │ \u001b[38;5;141mAveRooms    \u001b[0m │ \u001b[36m  0\u001b[0m │ \u001b[36m    0\u001b[0m │ \u001b[36m   5.437\u001b[0m │ \u001b[36m   2.449\u001b[0m │ \u001b[36m 0.8889\u001b[0m │ \u001b[36m   4.46\u001b[0m │ \u001b[36m  5.232\u001b[0m │ \u001b[36m 6.059\u001b[0m │ \u001b[36m  141.9\u001b[0m │ \u001b[32m  █   \u001b[0m │  │\n",
       "│ │ \u001b[38;5;141mAveBedrms   \u001b[0m │ \u001b[36m  0\u001b[0m │ \u001b[36m    0\u001b[0m │ \u001b[36m   1.098\u001b[0m │ \u001b[36m  0.4457\u001b[0m │ \u001b[36m 0.3333\u001b[0m │ \u001b[36m  1.007\u001b[0m │ \u001b[36m   1.05\u001b[0m │ \u001b[36m   1.1\u001b[0m │ \u001b[36m  25.64\u001b[0m │ \u001b[32m  █   \u001b[0m │  │\n",
       "│ │ \u001b[38;5;141mPopulation  \u001b[0m │ \u001b[36m  0\u001b[0m │ \u001b[36m    0\u001b[0m │ \u001b[36m    1431\u001b[0m │ \u001b[36m    1146\u001b[0m │ \u001b[36m      3\u001b[0m │ \u001b[36m    793\u001b[0m │ \u001b[36m   1170\u001b[0m │ \u001b[36m  1729\u001b[0m │ \u001b[36m  35680\u001b[0m │ \u001b[32m  █   \u001b[0m │  │\n",
       "│ │ \u001b[38;5;141mAveOccup    \u001b[0m │ \u001b[36m  0\u001b[0m │ \u001b[36m    0\u001b[0m │ \u001b[36m   3.129\u001b[0m │ \u001b[36m   12.65\u001b[0m │ \u001b[36m 0.6923\u001b[0m │ \u001b[36m  2.432\u001b[0m │ \u001b[36m   2.82\u001b[0m │ \u001b[36m 3.282\u001b[0m │ \u001b[36m   1243\u001b[0m │ \u001b[32m  █   \u001b[0m │  │\n",
       "│ │ \u001b[38;5;141mLatitude    \u001b[0m │ \u001b[36m  0\u001b[0m │ \u001b[36m    0\u001b[0m │ \u001b[36m   35.65\u001b[0m │ \u001b[36m   2.134\u001b[0m │ \u001b[36m  32.55\u001b[0m │ \u001b[36m  33.94\u001b[0m │ \u001b[36m  34.27\u001b[0m │ \u001b[36m 37.72\u001b[0m │ \u001b[36m  41.95\u001b[0m │ \u001b[32m█▃▁▆▁ \u001b[0m │  │\n",
       "│ │ \u001b[38;5;141mLongitude   \u001b[0m │ \u001b[36m  0\u001b[0m │ \u001b[36m    0\u001b[0m │ \u001b[36m  -119.6\u001b[0m │ \u001b[36m   2.005\u001b[0m │ \u001b[36m -124.3\u001b[0m │ \u001b[36m -121.8\u001b[0m │ \u001b[36m -118.5\u001b[0m │ \u001b[36m  -118\u001b[0m │ \u001b[36m -114.3\u001b[0m │ \u001b[32m▁▆▂█▃ \u001b[0m │  │\n",
       "│ │ \u001b[38;5;141mtarget      \u001b[0m │ \u001b[36m  0\u001b[0m │ \u001b[36m    0\u001b[0m │ \u001b[36m   2.067\u001b[0m │ \u001b[36m   1.154\u001b[0m │ \u001b[36m   0.15\u001b[0m │ \u001b[36m  1.194\u001b[0m │ \u001b[36m  1.792\u001b[0m │ \u001b[36m  2.64\u001b[0m │ \u001b[36m      5\u001b[0m │ \u001b[32m▄█▆▃▂▂\u001b[0m │  │\n",
       "│ └──────────────┴─────┴───────┴──────────┴──────────┴─────────┴─────────┴─────────┴────────┴─────────┴────────┘  │\n",
       "╰────────────────────────────────────────────────────── End ──────────────────────────────────────────────────────╯\n"
      ]
     },
     "metadata": {},
     "output_type": "display_data"
    }
   ],
   "source": [
    "skim(train_df)"
   ]
  },
  {
   "cell_type": "code",
   "execution_count": null,
   "id": "dc186d3e-d3e4-4414-877e-0d1e3ecdec91",
   "metadata": {},
   "outputs": [],
   "source": []
  },
  {
   "cell_type": "code",
   "execution_count": null,
   "id": "53445b36-537f-497d-bfc9-392d9d9321e8",
   "metadata": {},
   "outputs": [],
   "source": []
  },
  {
   "cell_type": "code",
   "execution_count": null,
   "id": "ad1e4c76-7814-4845-8804-6c7b718eb646",
   "metadata": {},
   "outputs": [],
   "source": []
  },
  {
   "cell_type": "code",
   "execution_count": null,
   "id": "39d6534c-e08c-4d67-a46e-15cf7ba79e7c",
   "metadata": {},
   "outputs": [],
   "source": []
  },
  {
   "cell_type": "code",
   "execution_count": null,
   "id": "43f8e091-bd81-4c7b-b808-1fa3c415abdc",
   "metadata": {},
   "outputs": [],
   "source": []
  },
  {
   "cell_type": "code",
   "execution_count": null,
   "id": "ebde193f-34a6-43db-a527-9baf14f2dc91",
   "metadata": {},
   "outputs": [],
   "source": []
  },
  {
   "cell_type": "code",
   "execution_count": 20,
   "id": "b421d9df-b2d5-4ab3-b49f-ccbc7b408776",
   "metadata": {},
   "outputs": [
    {
     "data": {
      "text/html": [
       "<div>\n",
       "<style scoped>\n",
       "    .dataframe tbody tr th:only-of-type {\n",
       "        vertical-align: middle;\n",
       "    }\n",
       "\n",
       "    .dataframe tbody tr th {\n",
       "        vertical-align: top;\n",
       "    }\n",
       "\n",
       "    .dataframe thead th {\n",
       "        text-align: right;\n",
       "    }\n",
       "</style>\n",
       "<table border=\"1\" class=\"dataframe\">\n",
       "  <thead>\n",
       "    <tr style=\"text-align: right;\">\n",
       "      <th></th>\n",
       "      <th>MedInc</th>\n",
       "      <th>HouseAge</th>\n",
       "      <th>AveRooms</th>\n",
       "      <th>AveBedrms</th>\n",
       "      <th>Population</th>\n",
       "      <th>AveOccup</th>\n",
       "      <th>Latitude</th>\n",
       "      <th>Longitude</th>\n",
       "      <th>target</th>\n",
       "    </tr>\n",
       "  </thead>\n",
       "  <tbody>\n",
       "    <tr>\n",
       "      <th>count</th>\n",
       "      <td>20640.000000</td>\n",
       "      <td>20640.000000</td>\n",
       "      <td>20640.000000</td>\n",
       "      <td>20640.000000</td>\n",
       "      <td>20640.000000</td>\n",
       "      <td>20640.000000</td>\n",
       "      <td>20640.000000</td>\n",
       "      <td>20640.000000</td>\n",
       "      <td>20640.000000</td>\n",
       "    </tr>\n",
       "    <tr>\n",
       "      <th>mean</th>\n",
       "      <td>3.870671</td>\n",
       "      <td>28.639486</td>\n",
       "      <td>5.429000</td>\n",
       "      <td>1.096675</td>\n",
       "      <td>1425.476744</td>\n",
       "      <td>3.070655</td>\n",
       "      <td>35.631861</td>\n",
       "      <td>-119.569704</td>\n",
       "      <td>2.068558</td>\n",
       "    </tr>\n",
       "    <tr>\n",
       "      <th>std</th>\n",
       "      <td>1.899822</td>\n",
       "      <td>12.585558</td>\n",
       "      <td>2.474173</td>\n",
       "      <td>0.473911</td>\n",
       "      <td>1132.462122</td>\n",
       "      <td>10.386050</td>\n",
       "      <td>2.135952</td>\n",
       "      <td>2.003532</td>\n",
       "      <td>1.153956</td>\n",
       "    </tr>\n",
       "    <tr>\n",
       "      <th>min</th>\n",
       "      <td>0.499900</td>\n",
       "      <td>1.000000</td>\n",
       "      <td>0.846154</td>\n",
       "      <td>0.333333</td>\n",
       "      <td>3.000000</td>\n",
       "      <td>0.692308</td>\n",
       "      <td>32.540000</td>\n",
       "      <td>-124.350000</td>\n",
       "      <td>0.149990</td>\n",
       "    </tr>\n",
       "    <tr>\n",
       "      <th>25%</th>\n",
       "      <td>2.563400</td>\n",
       "      <td>18.000000</td>\n",
       "      <td>4.440716</td>\n",
       "      <td>1.006079</td>\n",
       "      <td>787.000000</td>\n",
       "      <td>2.429741</td>\n",
       "      <td>33.930000</td>\n",
       "      <td>-121.800000</td>\n",
       "      <td>1.196000</td>\n",
       "    </tr>\n",
       "    <tr>\n",
       "      <th>50%</th>\n",
       "      <td>3.534800</td>\n",
       "      <td>29.000000</td>\n",
       "      <td>5.229129</td>\n",
       "      <td>1.048780</td>\n",
       "      <td>1166.000000</td>\n",
       "      <td>2.818116</td>\n",
       "      <td>34.260000</td>\n",
       "      <td>-118.490000</td>\n",
       "      <td>1.797000</td>\n",
       "    </tr>\n",
       "    <tr>\n",
       "      <th>75%</th>\n",
       "      <td>4.743250</td>\n",
       "      <td>37.000000</td>\n",
       "      <td>6.052381</td>\n",
       "      <td>1.099526</td>\n",
       "      <td>1725.000000</td>\n",
       "      <td>3.282261</td>\n",
       "      <td>37.710000</td>\n",
       "      <td>-118.010000</td>\n",
       "      <td>2.647250</td>\n",
       "    </tr>\n",
       "    <tr>\n",
       "      <th>max</th>\n",
       "      <td>15.000100</td>\n",
       "      <td>52.000000</td>\n",
       "      <td>141.909091</td>\n",
       "      <td>34.066667</td>\n",
       "      <td>35682.000000</td>\n",
       "      <td>1243.333333</td>\n",
       "      <td>41.950000</td>\n",
       "      <td>-114.310000</td>\n",
       "      <td>5.000010</td>\n",
       "    </tr>\n",
       "  </tbody>\n",
       "</table>\n",
       "</div>"
      ],
      "text/plain": [
       "             MedInc      HouseAge      AveRooms     AveBedrms    Population  \\\n",
       "count  20640.000000  20640.000000  20640.000000  20640.000000  20640.000000   \n",
       "mean       3.870671     28.639486      5.429000      1.096675   1425.476744   \n",
       "std        1.899822     12.585558      2.474173      0.473911   1132.462122   \n",
       "min        0.499900      1.000000      0.846154      0.333333      3.000000   \n",
       "25%        2.563400     18.000000      4.440716      1.006079    787.000000   \n",
       "50%        3.534800     29.000000      5.229129      1.048780   1166.000000   \n",
       "75%        4.743250     37.000000      6.052381      1.099526   1725.000000   \n",
       "max       15.000100     52.000000    141.909091     34.066667  35682.000000   \n",
       "\n",
       "           AveOccup      Latitude     Longitude        target  \n",
       "count  20640.000000  20640.000000  20640.000000  20640.000000  \n",
       "mean       3.070655     35.631861   -119.569704      2.068558  \n",
       "std       10.386050      2.135952      2.003532      1.153956  \n",
       "min        0.692308     32.540000   -124.350000      0.149990  \n",
       "25%        2.429741     33.930000   -121.800000      1.196000  \n",
       "50%        2.818116     34.260000   -118.490000      1.797000  \n",
       "75%        3.282261     37.710000   -118.010000      2.647250  \n",
       "max     1243.333333     41.950000   -114.310000      5.000010  "
      ]
     },
     "execution_count": 20,
     "metadata": {},
     "output_type": "execute_result"
    }
   ],
   "source": [
    "# Built-in pandas function, returns df\n",
    "df_desc = df.describe()\n",
    "df_desc"
   ]
  },
  {
   "cell_type": "markdown",
   "id": "09f3a9fc-591a-422b-ae01-22c0d44a2735",
   "metadata": {},
   "source": [
    "## Train Models Notebook"
   ]
  },
  {
   "cell_type": "code",
   "execution_count": 21,
   "id": "27098289-94e8-4147-bcd4-f9eef13b5936",
   "metadata": {},
   "outputs": [
    {
     "ename": "NameError",
     "evalue": "name 'X_train' is not defined",
     "output_type": "error",
     "traceback": [
      "\u001b[0;31m---------------------------------------------------------------------------\u001b[0m",
      "\u001b[0;31mNameError\u001b[0m                                 Traceback (most recent call last)",
      "Cell \u001b[0;32mIn[21], line 3\u001b[0m\n\u001b[1;32m      1\u001b[0m \u001b[38;5;66;03m# Instantiate model, fit model, save model\u001b[39;00m\n\u001b[1;32m      2\u001b[0m lr \u001b[38;5;241m=\u001b[39m LinearRegression()\n\u001b[0;32m----> 3\u001b[0m lr\u001b[38;5;241m.\u001b[39mfit(X_train, y_train)\n",
      "\u001b[0;31mNameError\u001b[0m: name 'X_train' is not defined"
     ]
    }
   ],
   "source": [
    "# Instantiate model, fit model, save model\n",
    "lr = LinearRegression()\n",
    "lr.fit(X_train, y_train)"
   ]
  },
  {
   "cell_type": "code",
   "execution_count": null,
   "id": "6d4c83fa-04df-47e7-9ce4-dc5bfdf94abc",
   "metadata": {},
   "outputs": [],
   "source": [
    "# Instantiate model, fit model, save model\n",
    "rf = RandomForestRegressor()\n",
    "rf.fit(X_train, y_train)"
   ]
  },
  {
   "cell_type": "code",
   "execution_count": null,
   "id": "144eb2f7-eb4e-47b1-94c0-5bac885fa8b7",
   "metadata": {},
   "outputs": [],
   "source": [
    "# Predict on train with both models\n",
    "# NOTE: test metrics are more insightful\n",
    "lr_train_preds = lr.predict(X_train)\n",
    "rf_train_preds = rf.predict(X_train)"
   ]
  },
  {
   "cell_type": "code",
   "execution_count": null,
   "id": "f64e93d6-e4e8-473b-abc8-e3b7d936f06b",
   "metadata": {},
   "outputs": [],
   "source": [
    "# Calculate mean squared error for both models\n",
    "lr_mse = mean_squared_error(y_train, lr_train_preds)\n",
    "rf_mse = mean_squared_error(y_train, rf_train_preds)"
   ]
  },
  {
   "cell_type": "code",
   "execution_count": null,
   "id": "d40d863b-2106-4425-832a-81f18ef623f1",
   "metadata": {},
   "outputs": [],
   "source": [
    "# Print calculations\n",
    "print(f\"The MSE for the linear regression models is : {lr_mse: .2f}\")\n",
    "print(f\"The MSE for the random forest regression models is : {rf_mse: .2f}\")"
   ]
  },
  {
   "cell_type": "code",
   "execution_count": null,
   "id": "dec9821c-5e37-41fb-96f7-ca81f0c3626e",
   "metadata": {},
   "outputs": [],
   "source": [
    "# Plot both predictions\n",
    "plt.figure(figsize=(10,10))\n",
    "plt.scatter(y_train, lr_train_preds, c='crimson', label='Linear Regression')\n",
    "plt.scatter(y_train, rf_train_preds, c='gold', label='RF Regression')\n",
    "\n",
    "plt.xlabel('True Values', fontsize=15)\n",
    "plt.ylabel('Predictions', fontsize=15)\n",
    "plt.title('Training Error', fontsize=15)\n",
    "\n",
    "plt.legend()\n",
    "plt.tight_layout()\n",
    "plt.show()"
   ]
  },
  {
   "cell_type": "markdown",
   "id": "1e46f039-7291-4395-a4df-4ef23be21880",
   "metadata": {},
   "source": [
    "## Evaluate Models Notebook"
   ]
  },
  {
   "cell_type": "code",
   "execution_count": null,
   "id": "4f7ead2a-82fd-4178-83a2-65da14c37939",
   "metadata": {},
   "outputs": [],
   "source": [
    "# linear regression predict\n",
    "lr_preds = lr.predict(X_test)\n",
    "lr_preds"
   ]
  },
  {
   "cell_type": "code",
   "execution_count": null,
   "id": "cb441fdf-dd22-451b-a8ae-892228e72334",
   "metadata": {},
   "outputs": [],
   "source": [
    "# random forest regression predict\n",
    "rf_preds = rf.predict(X_test)\n",
    "rf_preds"
   ]
  },
  {
   "cell_type": "code",
   "execution_count": null,
   "id": "50c31640-93ea-4cec-9e6a-57e68fbb8687",
   "metadata": {},
   "outputs": [],
   "source": [
    "# Calculate explained variance for both models\n",
    "lr_evs = explained_variance_score(y_test, lr_preds)\n",
    "rf_evs = explained_variance_score(y_test, rf_preds)"
   ]
  },
  {
   "cell_type": "code",
   "execution_count": null,
   "id": "e17041dd-a845-4769-9aff-f1b80409cea9",
   "metadata": {},
   "outputs": [],
   "source": [
    "# Display explained variance scores\n",
    "print(f'The explained variance score for the linear regression models is: {lr_evs: .2f}')\n",
    "print(f'The explained variance score for the random forest regression models is: {rf_evs: .2f}')"
   ]
  },
  {
   "cell_type": "code",
   "execution_count": null,
   "id": "a88b04a3-014e-412a-9fed-d42e6c0abcb6",
   "metadata": {},
   "outputs": [],
   "source": [
    "# Calculate mean squared error (MSE)\n",
    "lr_mse = mean_squared_error(y_test, lr_preds)\n",
    "rf_mse = mean_squared_error(y_test, rf_preds)"
   ]
  },
  {
   "cell_type": "code",
   "execution_count": null,
   "id": "d37dcbbb-acb1-4bca-ba2b-7675c5ebf212",
   "metadata": {},
   "outputs": [],
   "source": [
    "# Display MSE\n",
    "print(f\"The MSE for the linear regression models is : {lr_mse: .2f}\")\n",
    "print(f\"The MSE for the random forest regression models is : {rf_mse: .2f}\")"
   ]
  },
  {
   "cell_type": "code",
   "execution_count": null,
   "id": "b3790098-8cef-472a-b65a-adbd72c61d23",
   "metadata": {},
   "outputs": [],
   "source": [
    "# create y_df with real and predicted values\n",
    "y_df=pd.DataFrame({'y_true': y_test, 'lr_preds': lr_preds, 'rf_preds': rf_preds})"
   ]
  },
  {
   "cell_type": "code",
   "execution_count": null,
   "id": "76855a08-03ac-4422-b197-854e932569f4",
   "metadata": {},
   "outputs": [],
   "source": [
    "# Check df\n",
    "y_df.head()"
   ]
  },
  {
   "cell_type": "code",
   "execution_count": null,
   "id": "d9909924-6502-437e-90ad-de38da7417f4",
   "metadata": {},
   "outputs": [],
   "source": [
    "# Get correlation across real, lr, and rf values\n",
    "y_df.corr()"
   ]
  },
  {
   "cell_type": "code",
   "execution_count": null,
   "id": "ac958587-c609-4a0a-91b8-6fa485ef1eec",
   "metadata": {},
   "outputs": [],
   "source": [
    "# Seaborn pair plot on y data\n",
    "sns.pairplot(y_df)"
   ]
  },
  {
   "cell_type": "code",
   "execution_count": null,
   "id": "2e3c286a-aff4-44b1-93b5-370c8962e171",
   "metadata": {},
   "outputs": [],
   "source": [
    "# Plot results\n",
    "plt.figure(figsize=(10,10))\n",
    "plt.scatter(y_test.target, lr_preds, c='crimson', label='Linear Regression')\n",
    "plt.scatter(y_test.target, rf_preds, c='gold', label='RF Regression')\n",
    "\n",
    "plt.xlabel('True Values', fontsize=15)\n",
    "plt.ylabel('Predictions', fontsize=15)\n",
    "plt.title('Test Error', fontsize=15)\n",
    "\n",
    "plt.legend()\n",
    "plt.tight_layout()\n",
    "plt.show()"
   ]
  },
  {
   "cell_type": "code",
   "execution_count": null,
   "id": "51aff6e2-9f37-4b4c-a0ee-488859cf37a2",
   "metadata": {},
   "outputs": [],
   "source": []
  }
 ],
 "metadata": {
  "kernelspec": {
   "display_name": "Python 3 (ipykernel)",
   "language": "python",
   "name": "python3"
  },
  "language_info": {
   "codemirror_mode": {
    "name": "ipython",
    "version": 3
   },
   "file_extension": ".py",
   "mimetype": "text/x-python",
   "name": "python",
   "nbconvert_exporter": "python",
   "pygments_lexer": "ipython3",
   "version": "3.12.7"
  }
 },
 "nbformat": 4,
 "nbformat_minor": 5
}
