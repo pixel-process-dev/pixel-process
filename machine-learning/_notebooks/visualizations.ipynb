{
 "cells": [
  {
   "cell_type": "code",
   "execution_count": null,
   "id": "3ebb8221-c50d-459d-ad04-9638dba7bcea",
   "metadata": {},
   "outputs": [],
   "source": []
  },
  {
   "cell_type": "code",
   "execution_count": null,
   "id": "a3580eb0-2f0a-428d-b397-a2a8c9f3d8b5",
   "metadata": {},
   "outputs": [],
   "source": []
  },
  {
   "cell_type": "code",
   "execution_count": null,
   "id": "c241a9b3-9b1a-4164-ba6b-7056700e6d8f",
   "metadata": {},
   "outputs": [],
   "source": []
  },
  {
   "cell_type": "code",
   "execution_count": null,
   "id": "e5512561-1911-4406-94dc-3901a877185e",
   "metadata": {},
   "outputs": [],
   "source": []
  },
  {
   "cell_type": "markdown",
   "id": "2fd2c896-4e3a-4e48-8dbc-b10bf31ba9df",
   "metadata": {},
   "source": [
    "✅ Primary Elements in a Boxplot\n",
    "Box\n",
    "\n",
    "Represents the Interquartile Range (IQR):\n",
    "The range from Q1 (25th percentile) to Q3 (75th percentile).\n",
    "\n",
    "Length of the box = IQR (middle 50% of data).\n",
    "\n",
    "Median Line\n",
    "\n",
    "A line inside the box at the 50th percentile (median).\n",
    "\n",
    "NOT the mean (though some tools let you display the mean explicitly).\n",
    "\n",
    "Whiskers\n",
    "\n",
    "Extend from the box to:\n",
    "\n",
    "Minimum value within 1.5 × IQR below Q1, and\n",
    "\n",
    "Maximum value within 1.5 × IQR above Q3.\n",
    "\n",
    "Values outside this range are considered outliers.\n",
    "\n",
    "Outliers\n",
    "\n",
    "Individual points beyond the whiskers (beyond 1.5 × IQR rule)."
   ]
  },
  {
   "cell_type": "code",
   "execution_count": null,
   "id": "8aa96301-60ea-4d13-9a48-e0eb2f85da19",
   "metadata": {},
   "outputs": [],
   "source": []
  },
  {
   "cell_type": "markdown",
   "id": "adc943c7-b851-49f5-8c70-b87121782342",
   "metadata": {},
   "source": [
    "| Feature              | **Boxplot**                           | **Violin Plot**                                  |\n",
    "| -------------------- | ------------------------------------- | ------------------------------------------------ |\n",
    "| **Summary Shown**    | Quartiles (Q1, Q3), median, outliers  | Full distribution shape (KDE) + optional box     |\n",
    "| **Good For**         | Comparing central tendency and spread | Understanding distribution shape & multimodality |\n",
    "| **Handles Skew**     | Yes (via median vs quartiles)         | Yes, and shows skew shape clearly                |\n",
    "| **Handles Outliers** | Explicit (points beyond whiskers)     | Optional; may hide outliers unless points shown  |\n",
    "| **Visual Density**   | Compact and clean                     | Rich but visually busier                         |\n"
   ]
  },
  {
   "cell_type": "code",
   "execution_count": null,
   "id": "9bdc8022-e77a-4432-bbd8-11907e48fc05",
   "metadata": {},
   "outputs": [],
   "source": []
  },
  {
   "cell_type": "code",
   "execution_count": null,
   "id": "b34f6a1f-f458-4dae-bc08-6d885e8361b2",
   "metadata": {},
   "outputs": [],
   "source": []
  },
  {
   "cell_type": "code",
   "execution_count": null,
   "id": "dfd3466f-3176-40d9-9bc4-2c883ccfc3b6",
   "metadata": {},
   "outputs": [],
   "source": []
  },
  {
   "cell_type": "code",
   "execution_count": null,
   "id": "5e30d555-a0b1-4a46-9c64-9e6f0afad583",
   "metadata": {},
   "outputs": [],
   "source": [
    "import plotly.express as px\n",
    "import pandas as pd\n",
    "from sklearn.metrics import confusion_matrix\n",
    "\n",
    "# Example classes\n",
    "labels = ['setosa', 'versicolor', 'virginica']\n",
    "\n",
    "# Compute confusion matrix\n",
    "cm = confusion_matrix(y_test, y_pred, labels=labels)\n",
    "\n",
    "# Convert to DataFrame for Plotly\n",
    "cm_df = pd.DataFrame(cm, index=labels, columns=labels)\n",
    "\n",
    "# Plotly heatmap\n",
    "fig = px.imshow(\n",
    "    cm_df,\n",
    "    text_auto=True,\n",
    "    color_continuous_scale='Blues',\n",
    "    labels=dict(x=\"Predicted\", y=\"Actual\", color=\"Count\"),\n",
    ")\n",
    "fig.update_layout(title=\"Confusion Matrix\", xaxis_title=\"Predicted\", yaxis_title=\"Actual\")\n",
    "fig.show()\n"
   ]
  }
 ],
 "metadata": {
  "kernelspec": {
   "display_name": "Python 3 (ipykernel)",
   "language": "python",
   "name": "python3"
  },
  "language_info": {
   "codemirror_mode": {
    "name": "ipython",
    "version": 3
   },
   "file_extension": ".py",
   "mimetype": "text/x-python",
   "name": "python",
   "nbconvert_exporter": "python",
   "pygments_lexer": "ipython3",
   "version": "3.12.7"
  }
 },
 "nbformat": 4,
 "nbformat_minor": 5
}
