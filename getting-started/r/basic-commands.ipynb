{
 "cells": [
  {
   "cell_type": "raw",
   "id": "d102cc0e",
   "metadata": {},
   "source": [
    "---\n",
    "title: \"R: Basic Commands\"\n",
    "navtitle: \"R: Basic Commands (NB)\"\n",
    "subtitle: \"R Basic Commands & Operators\"\n",
    "description: \"Learn R basics.\"\n",
    "format:\n",
    "  html:\n",
    "    page-layout: full\n",
    "    title-block-banner: true\n",
    "---"
   ]
  },
  {
   "cell_type": "markdown",
   "id": "e5e6a95a-eb0f-47ca-8c29-18280109af49",
   "metadata": {},
   "source": [
    "# Operators\n",
    "\n",
    "Operators are characters with an assigned meaning in R.\n",
    "\n",
    "Mathematical 0perators are some of the most basic and will be explored first. \n",
    "\n",
    "- Addition\n",
    "- Subtraction\n",
    "- Multiplication\n",
    "- Division\n",
    "- Exponentiation"
   ]
  },
  {
   "cell_type": "code",
   "execution_count": 1,
   "id": "efd7f029",
   "metadata": {
    "lines_to_next_cell": 0
   },
   "outputs": [
    {
     "data": {
      "text/html": [
       "3"
      ],
      "text/latex": [
       "3"
      ],
      "text/markdown": [
       "3"
      ],
      "text/plain": [
       "[1] 3"
      ]
     },
     "metadata": {},
     "output_type": "display_data"
    }
   ],
   "source": [
    "2 + 1"
   ]
  },
  {
   "cell_type": "code",
   "execution_count": 2,
   "id": "e3adc60e",
   "metadata": {},
   "outputs": [
    {
     "data": {
      "text/html": [
       "1"
      ],
      "text/latex": [
       "1"
      ],
      "text/markdown": [
       "1"
      ],
      "text/plain": [
       "[1] 1"
      ]
     },
     "metadata": {},
     "output_type": "display_data"
    }
   ],
   "source": [
    "2 - 1 "
   ]
  },
  {
   "cell_type": "code",
   "execution_count": 3,
   "id": "43a1aba1",
   "metadata": {},
   "outputs": [
    {
     "data": {
      "text/html": [
       "2"
      ],
      "text/latex": [
       "2"
      ],
      "text/markdown": [
       "2"
      ],
      "text/plain": [
       "[1] 2"
      ]
     },
     "metadata": {},
     "output_type": "display_data"
    }
   ],
   "source": [
    "2 * 1 "
   ]
  },
  {
   "cell_type": "code",
   "execution_count": 4,
   "id": "551bece1",
   "metadata": {},
   "outputs": [
    {
     "data": {
      "text/html": [
       "2"
      ],
      "text/latex": [
       "2"
      ],
      "text/markdown": [
       "2"
      ],
      "text/plain": [
       "[1] 2"
      ]
     },
     "metadata": {},
     "output_type": "display_data"
    }
   ],
   "source": [
    "2 / 1 "
   ]
  },
  {
   "cell_type": "code",
   "execution_count": 5,
   "id": "e7272c7d",
   "metadata": {},
   "outputs": [
    {
     "data": {
      "text/html": [
       "4"
      ],
      "text/latex": [
       "4"
      ],
      "text/markdown": [
       "4"
      ],
      "text/plain": [
       "[1] 4"
      ]
     },
     "metadata": {},
     "output_type": "display_data"
    }
   ],
   "source": [
    "2 ** 2"
   ]
  },
  {
   "cell_type": "markdown",
   "id": "63062d1e",
   "metadata": {
    "lines_to_next_cell": 0
   },
   "source": [
    "### Multiple Commands\n",
    "\n",
    "Multiple commands can be executed in a single cell"
   ]
  },
  {
   "cell_type": "code",
   "execution_count": 6,
   "id": "db7d3139",
   "metadata": {},
   "outputs": [
    {
     "data": {
      "text/html": [
       "2"
      ],
      "text/latex": [
       "2"
      ],
      "text/markdown": [
       "2"
      ],
      "text/plain": [
       "[1] 2"
      ]
     },
     "metadata": {},
     "output_type": "display_data"
    },
    {
     "data": {
      "text/html": [
       "1"
      ],
      "text/latex": [
       "1"
      ],
      "text/markdown": [
       "1"
      ],
      "text/plain": [
       "[1] 1"
      ]
     },
     "metadata": {},
     "output_type": "display_data"
    },
    {
     "data": {
      "text/html": [
       "1"
      ],
      "text/latex": [
       "1"
      ],
      "text/markdown": [
       "1"
      ],
      "text/plain": [
       "[1] 1"
      ]
     },
     "metadata": {},
     "output_type": "display_data"
    },
    {
     "data": {
      "text/html": [
       "9"
      ],
      "text/latex": [
       "9"
      ],
      "text/markdown": [
       "9"
      ],
      "text/plain": [
       "[1] 9"
      ]
     },
     "metadata": {},
     "output_type": "display_data"
    },
    {
     "data": {
      "text/html": [
       "256"
      ],
      "text/latex": [
       "256"
      ],
      "text/markdown": [
       "256"
      ],
      "text/plain": [
       "[1] 256"
      ]
     },
     "metadata": {},
     "output_type": "display_data"
    }
   ],
   "source": [
    "1 + 1\n",
    "2 - 1\n",
    "2 / 2\n",
    "3 * 3\n",
    "4 ** 4"
   ]
  },
  {
   "cell_type": "markdown",
   "id": "53c4342c",
   "metadata": {
    "lines_to_next_cell": 0
   },
   "source": [
    "## Variable Assignment\n",
    "Variable assignment is essential in R, as in many programming languages.\n",
    "\n",
    "It can be helpful to represent objects, data, functions, and more as variables.\n",
    "\n",
    "These examples show basic usage."
   ]
  },
  {
   "cell_type": "code",
   "execution_count": 7,
   "id": "982b2cf0",
   "metadata": {},
   "outputs": [],
   "source": [
    "a = 1\n",
    "b = 2\n",
    "c = 3\n",
    "d = 4"
   ]
  },
  {
   "cell_type": "markdown",
   "id": "3b967811",
   "metadata": {
    "lines_to_next_cell": 0
   },
   "source": [
    "No output is generated by assigning a variable.\n",
    "\n",
    "However, they are now stored in memory and can be referenced."
   ]
  },
  {
   "cell_type": "markdown",
   "id": "1c78e014-7182-4887-a353-e1546149efbd",
   "metadata": {},
   "source": [
    "### Multiple Commands with Variables"
   ]
  },
  {
   "cell_type": "code",
   "execution_count": 8,
   "id": "5ed52f57",
   "metadata": {
    "lines_to_next_cell": 0
   },
   "outputs": [
    {
     "data": {
      "text/html": [
       "2"
      ],
      "text/latex": [
       "2"
      ],
      "text/markdown": [
       "2"
      ],
      "text/plain": [
       "[1] 2"
      ]
     },
     "metadata": {},
     "output_type": "display_data"
    },
    {
     "data": {
      "text/html": [
       "1"
      ],
      "text/latex": [
       "1"
      ],
      "text/markdown": [
       "1"
      ],
      "text/plain": [
       "[1] 1"
      ]
     },
     "metadata": {},
     "output_type": "display_data"
    },
    {
     "data": {
      "text/html": [
       "1"
      ],
      "text/latex": [
       "1"
      ],
      "text/markdown": [
       "1"
      ],
      "text/plain": [
       "[1] 1"
      ]
     },
     "metadata": {},
     "output_type": "display_data"
    },
    {
     "data": {
      "text/html": [
       "9"
      ],
      "text/latex": [
       "9"
      ],
      "text/markdown": [
       "9"
      ],
      "text/plain": [
       "[1] 9"
      ]
     },
     "metadata": {},
     "output_type": "display_data"
    },
    {
     "data": {
      "text/html": [
       "256"
      ],
      "text/latex": [
       "256"
      ],
      "text/markdown": [
       "256"
      ],
      "text/plain": [
       "[1] 256"
      ]
     },
     "metadata": {},
     "output_type": "display_data"
    }
   ],
   "source": [
    "a + a\n",
    "b - a\n",
    "b / b\n",
    "c * c\n",
    "d ** d"
   ]
  },
  {
   "cell_type": "markdown",
   "id": "e8945cc5",
   "metadata": {
    "lines_to_next_cell": 0
   },
   "source": [
    "Results are identical to the above which just used numbers."
   ]
  },
  {
   "cell_type": "markdown",
   "id": "57d435b5-f6dd-46db-9a62-801ad00111c8",
   "metadata": {},
   "source": [
    "### Updating a variable\n",
    "\n",
    "Variables are mutable, that is they can be updated/changed. \n",
    "\n",
    "We'll also start using `print`, a built-in function which displays the given input. Helpful to see what is happening, since assigning variables does not produce output in the notebook."
   ]
  },
  {
   "cell_type": "code",
   "execution_count": 9,
   "id": "bcab4e1b",
   "metadata": {
    "lines_to_next_cell": 0
   },
   "outputs": [
    {
     "name": "stdout",
     "output_type": "stream",
     "text": [
      "[1] \"Checking value of a...\"\n",
      "[1] 1\n",
      "[1] \"Updating value of a...\"\n",
      "[1] \"Updated value of a...\"\n",
      "[1] 2\n"
     ]
    }
   ],
   "source": [
    "print(\"Checking value of a...\")\n",
    "print(a)\n",
    "print(\"Updating value of a...\")\n",
    "a = a + 1\n",
    "print(\"Updated value of a...\")\n",
    "print(a)"
   ]
  },
  {
   "cell_type": "markdown",
   "id": "68f209ce",
   "metadata": {
    "lines_to_next_cell": 0
   },
   "source": [
    "## Vectors\n",
    "R uses vectors to store larger amounts of data."
   ]
  },
  {
   "cell_type": "markdown",
   "id": "a1b794f3-8849-4aca-a787-f1b3d52e2345",
   "metadata": {},
   "source": [
    "### Creating a Vector\n",
    "\n",
    "`c`, another built-in function, stands for combine and can be used to create vectors."
   ]
  },
  {
   "cell_type": "code",
   "execution_count": 10,
   "id": "e5714e30",
   "metadata": {
    "lines_to_next_cell": 0
   },
   "outputs": [
    {
     "name": "stdout",
     "output_type": "stream",
     "text": [
      "[1] 1 2 3 4\n"
     ]
    }
   ],
   "source": [
    "vector_1 = c(1, 2, 3, 4)\n",
    "print(vector_1)"
   ]
  },
  {
   "cell_type": "markdown",
   "id": "accfb88a",
   "metadata": {
    "lines_to_next_cell": 0
   },
   "source": [
    "### Single Vector Operations\n",
    "\n",
    "R makes it easy to do operations on vectors of data.\n",
    "\n",
    "R has built-in functions for these types of operations.\n",
    "\n",
    "We'll explore: \n",
    "- Sum\n",
    "- Mean\n",
    "- Min\n",
    "- Max"
   ]
  },
  {
   "cell_type": "code",
   "execution_count": 11,
   "id": "69697b89",
   "metadata": {},
   "outputs": [
    {
     "data": {
      "text/html": [
       "10"
      ],
      "text/latex": [
       "10"
      ],
      "text/markdown": [
       "10"
      ],
      "text/plain": [
       "[1] 10"
      ]
     },
     "metadata": {},
     "output_type": "display_data"
    },
    {
     "data": {
      "text/html": [
       "2.5"
      ],
      "text/latex": [
       "2.5"
      ],
      "text/markdown": [
       "2.5"
      ],
      "text/plain": [
       "[1] 2.5"
      ]
     },
     "metadata": {},
     "output_type": "display_data"
    },
    {
     "data": {
      "text/html": [
       "1"
      ],
      "text/latex": [
       "1"
      ],
      "text/markdown": [
       "1"
      ],
      "text/plain": [
       "[1] 1"
      ]
     },
     "metadata": {},
     "output_type": "display_data"
    },
    {
     "data": {
      "text/html": [
       "4"
      ],
      "text/latex": [
       "4"
      ],
      "text/markdown": [
       "4"
      ],
      "text/plain": [
       "[1] 4"
      ]
     },
     "metadata": {},
     "output_type": "display_data"
    }
   ],
   "source": [
    "sum(vector_1)\n",
    "mean(vector_1)\n",
    "min(vector_1)\n",
    "max(vector_1)"
   ]
  },
  {
   "cell_type": "markdown",
   "id": "6d3f41b1",
   "metadata": {
    "lines_to_next_cell": 0
   },
   "source": [
    "### Vector from variables"
   ]
  },
  {
   "cell_type": "code",
   "execution_count": 12,
   "id": "eb4c299d",
   "metadata": {
    "lines_to_next_cell": 0
   },
   "outputs": [
    {
     "name": "stdout",
     "output_type": "stream",
     "text": [
      "[1] 2 2 3 4\n"
     ]
    }
   ],
   "source": [
    "vector_2 = c(a, b, c, d)\n",
    "print(vector_2)"
   ]
  },
  {
   "cell_type": "markdown",
   "id": "31c174bd",
   "metadata": {
    "lines_to_next_cell": 0
   },
   "source": [
    "It looks like vector_1 and vector_2 do not match because `a` was modified above.\n",
    "\n",
    "We will use the `setequal` function to compare them.\n",
    "This function takes two arguments and will return `TRUE` if they are equal, else `FALSE`."
   ]
  },
  {
   "cell_type": "markdown",
   "id": "e3528d35",
   "metadata": {
    "lines_to_next_cell": 0
   },
   "source": [
    "### Comparing vectors"
   ]
  },
  {
   "cell_type": "code",
   "execution_count": 13,
   "id": "88d0b030",
   "metadata": {},
   "outputs": [
    {
     "data": {
      "text/html": [
       "FALSE"
      ],
      "text/latex": [
       "FALSE"
      ],
      "text/markdown": [
       "FALSE"
      ],
      "text/plain": [
       "[1] FALSE"
      ]
     },
     "metadata": {},
     "output_type": "display_data"
    }
   ],
   "source": [
    "setequal(vector_1, vector_2)"
   ]
  },
  {
   "cell_type": "markdown",
   "id": "a9bc6be5",
   "metadata": {
    "lines_to_next_cell": 0
   },
   "source": [
    "Let's alter vector_2 so that they match.\n",
    "\n",
    "This step uses indexing to get the desired value from the vector and then assigns it a value of 1.\n",
    "\n",
    "Remember vectors are mutable. \n",
    "\n",
    "### Updating a value in an vector"
   ]
  },
  {
   "cell_type": "code",
   "execution_count": 14,
   "id": "33308732",
   "metadata": {
    "lines_to_next_cell": 0
   },
   "outputs": [
    {
     "name": "stdout",
     "output_type": "stream",
     "text": [
      "[1] 1 2 3 4\n"
     ]
    }
   ],
   "source": [
    "vector_2[1]=1\n",
    "print(vector_2)"
   ]
  },
  {
   "cell_type": "markdown",
   "id": "e9b3459b",
   "metadata": {
    "lines_to_next_cell": 0
   },
   "source": [
    "We can see in the output above that the first item in the vector was set to `1`.\n",
    "\n",
    "To compare two vectors in R, we again use `setequal`. \n",
    "\n",
    "### Comparing vectors"
   ]
  },
  {
   "cell_type": "code",
   "execution_count": 15,
   "id": "0ec50975",
   "metadata": {
    "lines_to_next_cell": 0
   },
   "outputs": [
    {
     "data": {
      "text/html": [
       "TRUE"
      ],
      "text/latex": [
       "TRUE"
      ],
      "text/markdown": [
       "TRUE"
      ],
      "text/plain": [
       "[1] TRUE"
      ]
     },
     "metadata": {},
     "output_type": "display_data"
    }
   ],
   "source": [
    "setequal(vector_1, vector_2)"
   ]
  },
  {
   "cell_type": "markdown",
   "id": "24a016ad",
   "metadata": {
    "lines_to_next_cell": 0
   },
   "source": [
    "Here we can see that the two vectors are equal.\n",
    "\n",
    "R can perform vector math as well. \n",
    "\n",
    "Here we create a third vector by adding vector_1 and vector_2.\n",
    "\n",
    "### Vector addition"
   ]
  },
  {
   "cell_type": "code",
   "execution_count": 16,
   "id": "daaf5d8c",
   "metadata": {},
   "outputs": [],
   "source": [
    "vector_3 = vector_1 + vector_2"
   ]
  },
  {
   "cell_type": "markdown",
   "id": "6fe7fa70",
   "metadata": {
    "lines_to_next_cell": 0
   },
   "source": [
    "Notice, there is no output! This is because we assigned the result into a new variable.\n",
    "\n",
    "Let's print out vector_3 and see the result."
   ]
  },
  {
   "cell_type": "code",
   "execution_count": 17,
   "id": "8c4abf4d",
   "metadata": {},
   "outputs": [
    {
     "name": "stdout",
     "output_type": "stream",
     "text": [
      "[1] 2 4 6 8\n"
     ]
    }
   ],
   "source": [
    "print(vector_3)"
   ]
  },
  {
   "cell_type": "markdown",
   "id": "6a1b9981",
   "metadata": {
    "lines_to_next_cell": 0
   },
   "source": [
    "### More vector operations"
   ]
  },
  {
   "cell_type": "code",
   "execution_count": 18,
   "id": "c2c74ee4",
   "metadata": {},
   "outputs": [
    {
     "data": {
      "text/html": [
       "<style>\n",
       ".list-inline {list-style: none; margin:0; padding: 0}\n",
       ".list-inline>li {display: inline-block}\n",
       ".list-inline>li:not(:last-child)::after {content: \"\\00b7\"; padding: 0 .5ex}\n",
       "</style>\n",
       "<ol class=list-inline><li>0</li><li>0</li><li>0</li><li>0</li></ol>\n"
      ],
      "text/latex": [
       "\\begin{enumerate*}\n",
       "\\item 0\n",
       "\\item 0\n",
       "\\item 0\n",
       "\\item 0\n",
       "\\end{enumerate*}\n"
      ],
      "text/markdown": [
       "1. 0\n",
       "2. 0\n",
       "3. 0\n",
       "4. 0\n",
       "\n",
       "\n"
      ],
      "text/plain": [
       "[1] 0 0 0 0"
      ]
     },
     "metadata": {},
     "output_type": "display_data"
    },
    {
     "data": {
      "text/html": [
       "<style>\n",
       ".list-inline {list-style: none; margin:0; padding: 0}\n",
       ".list-inline>li {display: inline-block}\n",
       ".list-inline>li:not(:last-child)::after {content: \"\\00b7\"; padding: 0 .5ex}\n",
       "</style>\n",
       "<ol class=list-inline><li>1</li><li>4</li><li>9</li><li>16</li></ol>\n"
      ],
      "text/latex": [
       "\\begin{enumerate*}\n",
       "\\item 1\n",
       "\\item 4\n",
       "\\item 9\n",
       "\\item 16\n",
       "\\end{enumerate*}\n"
      ],
      "text/markdown": [
       "1. 1\n",
       "2. 4\n",
       "3. 9\n",
       "4. 16\n",
       "\n",
       "\n"
      ],
      "text/plain": [
       "[1]  1  4  9 16"
      ]
     },
     "metadata": {},
     "output_type": "display_data"
    },
    {
     "data": {
      "text/html": [
       "<style>\n",
       ".list-inline {list-style: none; margin:0; padding: 0}\n",
       ".list-inline>li {display: inline-block}\n",
       ".list-inline>li:not(:last-child)::after {content: \"\\00b7\"; padding: 0 .5ex}\n",
       "</style>\n",
       "<ol class=list-inline><li>1</li><li>1</li><li>1</li><li>1</li></ol>\n"
      ],
      "text/latex": [
       "\\begin{enumerate*}\n",
       "\\item 1\n",
       "\\item 1\n",
       "\\item 1\n",
       "\\item 1\n",
       "\\end{enumerate*}\n"
      ],
      "text/markdown": [
       "1. 1\n",
       "2. 1\n",
       "3. 1\n",
       "4. 1\n",
       "\n",
       "\n"
      ],
      "text/plain": [
       "[1] 1 1 1 1"
      ]
     },
     "metadata": {},
     "output_type": "display_data"
    },
    {
     "data": {
      "text/html": [
       "<style>\n",
       ".list-inline {list-style: none; margin:0; padding: 0}\n",
       ".list-inline>li {display: inline-block}\n",
       ".list-inline>li:not(:last-child)::after {content: \"\\00b7\"; padding: 0 .5ex}\n",
       "</style>\n",
       "<ol class=list-inline><li>1</li><li>4</li><li>27</li><li>256</li></ol>\n"
      ],
      "text/latex": [
       "\\begin{enumerate*}\n",
       "\\item 1\n",
       "\\item 4\n",
       "\\item 27\n",
       "\\item 256\n",
       "\\end{enumerate*}\n"
      ],
      "text/markdown": [
       "1. 1\n",
       "2. 4\n",
       "3. 27\n",
       "4. 256\n",
       "\n",
       "\n"
      ],
      "text/plain": [
       "[1]   1   4  27 256"
      ]
     },
     "metadata": {},
     "output_type": "display_data"
    }
   ],
   "source": [
    "vector_1 - vector_2\n",
    "vector_1 * vector_2\n",
    "vector_1 / vector_2\n",
    "vector_1 ** vector_2"
   ]
  },
  {
   "cell_type": "markdown",
   "id": "d35d0f76",
   "metadata": {},
   "source": [
    "## Manipulating multiple vectors\n",
    "\n",
    "### Concatenating vectors\n",
    "\n",
    "Vectors can be combined to create longer vectors using the `c` command."
   ]
  },
  {
   "cell_type": "code",
   "execution_count": 19,
   "id": "31217e8f",
   "metadata": {},
   "outputs": [
    {
     "name": "stdout",
     "output_type": "stream",
     "text": [
      " [1] 1 2 3 4 1 2 3 4 2 4 6 8\n"
     ]
    }
   ],
   "source": [
    "vector_4 = c(vector_1, vector_2, vector_3)\n",
    "print(vector_4)"
   ]
  },
  {
   "cell_type": "markdown",
   "id": "73a4ad88",
   "metadata": {},
   "source": [
    "### DataFrames\n",
    "Multiple vectors can be combined into data frames.\n",
    "\n",
    "Use the command `rbind` to combine vectors as rows."
   ]
  },
  {
   "cell_type": "code",
   "execution_count": 20,
   "id": "6904ad07",
   "metadata": {},
   "outputs": [
    {
     "name": "stdout",
     "output_type": "stream",
     "text": [
      "         [,1] [,2] [,3] [,4]\n",
      "vector_1    1    2    3    4\n",
      "vector_2    1    2    3    4\n",
      "vector_3    2    4    6    8\n"
     ]
    }
   ],
   "source": [
    "df1 = rbind(vector_1, vector_2, vector_3)\n",
    "print(df1)"
   ]
  },
  {
   "cell_type": "markdown",
   "id": "4d6e79a1",
   "metadata": {},
   "source": [
    "Use the command `cbind` to combine vectors as columns."
   ]
  },
  {
   "cell_type": "code",
   "execution_count": 21,
   "id": "984c6ccf",
   "metadata": {},
   "outputs": [
    {
     "name": "stdout",
     "output_type": "stream",
     "text": [
      "     vector_1 vector_2 vector_3\n",
      "[1,]        1        1        2\n",
      "[2,]        2        2        4\n",
      "[3,]        3        3        6\n",
      "[4,]        4        4        8\n"
     ]
    }
   ],
   "source": [
    "df2 = cbind(vector_1, vector_2, vector_3)\n",
    "print(df2)"
   ]
  },
  {
   "cell_type": "markdown",
   "id": "342f1ec7",
   "metadata": {
    "lines_to_next_cell": 0
   },
   "source": [
    "### Column and row names\n",
    "\n",
    "Now that the data is in a multidimensional array, colnames and rownames may be assigned. \n",
    "\n",
    "We can access those values using `colnames()` and `rownames()`."
   ]
  },
  {
   "cell_type": "code",
   "execution_count": 22,
   "id": "1a43d22c",
   "metadata": {
    "lines_to_next_cell": 0
   },
   "outputs": [
    {
     "data": {
      "text/html": [
       "<style>\n",
       ".list-inline {list-style: none; margin:0; padding: 0}\n",
       ".list-inline>li {display: inline-block}\n",
       ".list-inline>li:not(:last-child)::after {content: \"\\00b7\"; padding: 0 .5ex}\n",
       "</style>\n",
       "<ol class=list-inline><li>'vector_1'</li><li>'vector_2'</li><li>'vector_3'</li></ol>\n"
      ],
      "text/latex": [
       "\\begin{enumerate*}\n",
       "\\item 'vector\\_1'\n",
       "\\item 'vector\\_2'\n",
       "\\item 'vector\\_3'\n",
       "\\end{enumerate*}\n"
      ],
      "text/markdown": [
       "1. 'vector_1'\n",
       "2. 'vector_2'\n",
       "3. 'vector_3'\n",
       "\n",
       "\n"
      ],
      "text/plain": [
       "[1] \"vector_1\" \"vector_2\" \"vector_3\""
      ]
     },
     "metadata": {},
     "output_type": "display_data"
    },
    {
     "data": {
      "text/plain": [
       "NULL"
      ]
     },
     "metadata": {},
     "output_type": "display_data"
    }
   ],
   "source": [
    "colnames(df2)\n",
    "rownames(df2)"
   ]
  },
  {
   "cell_type": "markdown",
   "id": "952e0bc3",
   "metadata": {
    "lines_to_next_cell": 0
   },
   "source": [
    "Notice, NULL is returned as the row names. This is because they have not been set yet.\n",
    "\n",
    "To get R to automatically assign row names add the argument `do.NULL=FALSE`.\n",
    "\n",
    "To learn more about this argument you can run `?rownames`."
   ]
  },
  {
   "cell_type": "code",
   "execution_count": 23,
   "id": "43430aa9",
   "metadata": {
    "lines_to_next_cell": 0
   },
   "outputs": [
    {
     "data": {
      "text/html": [
       "<style>\n",
       ".list-inline {list-style: none; margin:0; padding: 0}\n",
       ".list-inline>li {display: inline-block}\n",
       ".list-inline>li:not(:last-child)::after {content: \"\\00b7\"; padding: 0 .5ex}\n",
       "</style>\n",
       "<ol class=list-inline><li>'vector_1'</li><li>'vector_2'</li><li>'vector_3'</li></ol>\n"
      ],
      "text/latex": [
       "\\begin{enumerate*}\n",
       "\\item 'vector\\_1'\n",
       "\\item 'vector\\_2'\n",
       "\\item 'vector\\_3'\n",
       "\\end{enumerate*}\n"
      ],
      "text/markdown": [
       "1. 'vector_1'\n",
       "2. 'vector_2'\n",
       "3. 'vector_3'\n",
       "\n",
       "\n"
      ],
      "text/plain": [
       "[1] \"vector_1\" \"vector_2\" \"vector_3\""
      ]
     },
     "metadata": {},
     "output_type": "display_data"
    },
    {
     "data": {
      "text/html": [
       "<style>\n",
       ".list-inline {list-style: none; margin:0; padding: 0}\n",
       ".list-inline>li {display: inline-block}\n",
       ".list-inline>li:not(:last-child)::after {content: \"\\00b7\"; padding: 0 .5ex}\n",
       "</style>\n",
       "<ol class=list-inline><li>'row1'</li><li>'row2'</li><li>'row3'</li><li>'row4'</li></ol>\n"
      ],
      "text/latex": [
       "\\begin{enumerate*}\n",
       "\\item 'row1'\n",
       "\\item 'row2'\n",
       "\\item 'row3'\n",
       "\\item 'row4'\n",
       "\\end{enumerate*}\n"
      ],
      "text/markdown": [
       "1. 'row1'\n",
       "2. 'row2'\n",
       "3. 'row3'\n",
       "4. 'row4'\n",
       "\n",
       "\n"
      ],
      "text/plain": [
       "[1] \"row1\" \"row2\" \"row3\" \"row4\""
      ]
     },
     "metadata": {},
     "output_type": "display_data"
    }
   ],
   "source": [
    "colnames(df2)\n",
    "rownames(df2, do.NULL=FALSE)"
   ]
  },
  {
   "cell_type": "markdown",
   "id": "3345e6bd",
   "metadata": {
    "lines_to_next_cell": 0
   },
   "source": [
    "It can often be helpful to supply row and column names when creating data frames.\n",
    "\n",
    "This next chunk shows how to do just that!"
   ]
  },
  {
   "cell_type": "code",
   "execution_count": 24,
   "id": "103086aa",
   "metadata": {
    "lines_to_next_cell": 0
   },
   "outputs": [],
   "source": [
    "colnames(df2) = c(\"Col1\", \"Col2\", \"Col3\")\n",
    "rownames(df2) = c(\"Row1\", \"Row2\", \"Row3\", \"Row4\")"
   ]
  },
  {
   "cell_type": "markdown",
   "id": "7afbe0e7",
   "metadata": {},
   "source": [
    "Notice, no output is produced. Lets try printing the data frame to see if our changes worked."
   ]
  },
  {
   "cell_type": "code",
   "execution_count": 25,
   "id": "0b92bf1c",
   "metadata": {},
   "outputs": [
    {
     "name": "stdout",
     "output_type": "stream",
     "text": [
      "     Col1 Col2 Col3\n",
      "Row1    1    1    2\n",
      "Row2    2    2    4\n",
      "Row3    3    3    6\n",
      "Row4    4    4    8\n"
     ]
    },
    {
     "data": {
      "text/html": [
       "<style>\n",
       ".list-inline {list-style: none; margin:0; padding: 0}\n",
       ".list-inline>li {display: inline-block}\n",
       ".list-inline>li:not(:last-child)::after {content: \"\\00b7\"; padding: 0 .5ex}\n",
       "</style>\n",
       "<ol class=list-inline><li>'Col1'</li><li>'Col2'</li><li>'Col3'</li></ol>\n"
      ],
      "text/latex": [
       "\\begin{enumerate*}\n",
       "\\item 'Col1'\n",
       "\\item 'Col2'\n",
       "\\item 'Col3'\n",
       "\\end{enumerate*}\n"
      ],
      "text/markdown": [
       "1. 'Col1'\n",
       "2. 'Col2'\n",
       "3. 'Col3'\n",
       "\n",
       "\n"
      ],
      "text/plain": [
       "[1] \"Col1\" \"Col2\" \"Col3\""
      ]
     },
     "metadata": {},
     "output_type": "display_data"
    },
    {
     "data": {
      "text/html": [
       "<style>\n",
       ".list-inline {list-style: none; margin:0; padding: 0}\n",
       ".list-inline>li {display: inline-block}\n",
       ".list-inline>li:not(:last-child)::after {content: \"\\00b7\"; padding: 0 .5ex}\n",
       "</style>\n",
       "<ol class=list-inline><li>'Row1'</li><li>'Row2'</li><li>'Row3'</li><li>'Row4'</li></ol>\n"
      ],
      "text/latex": [
       "\\begin{enumerate*}\n",
       "\\item 'Row1'\n",
       "\\item 'Row2'\n",
       "\\item 'Row3'\n",
       "\\item 'Row4'\n",
       "\\end{enumerate*}\n"
      ],
      "text/markdown": [
       "1. 'Row1'\n",
       "2. 'Row2'\n",
       "3. 'Row3'\n",
       "4. 'Row4'\n",
       "\n",
       "\n"
      ],
      "text/plain": [
       "[1] \"Row1\" \"Row2\" \"Row3\" \"Row4\""
      ]
     },
     "metadata": {},
     "output_type": "display_data"
    }
   ],
   "source": [
    "print(df2)\n",
    "colnames(df2)\n",
    "rownames(df2)"
   ]
  },
  {
   "cell_type": "markdown",
   "id": "92166012",
   "metadata": {},
   "source": [
    "This concludes the introduction to basic commands in R!"
   ]
  }
 ],
 "metadata": {
  "jupytext": {
   "cell_metadata_filter": "-all",
   "main_language": "R",
   "notebook_metadata_filter": "-all"
  },
  "kernelspec": {
   "display_name": "R",
   "language": "R",
   "name": "ir"
  },
  "language_info": {
   "codemirror_mode": "r",
   "file_extension": ".r",
   "mimetype": "text/x-r-source",
   "name": "R",
   "pygments_lexer": "r",
   "version": "4.5.1"
  }
 },
 "nbformat": 4,
 "nbformat_minor": 5
}
