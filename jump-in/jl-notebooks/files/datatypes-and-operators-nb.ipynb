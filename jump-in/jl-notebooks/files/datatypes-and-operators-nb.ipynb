{
 "cells": [
  {
   "cell_type": "raw",
   "id": "4651d996-4a1d-4c6d-8c26-e78d7cbbc156",
   "metadata": {
    "vscode": {
     "languageId": "raw"
    }
   },
   "source": [
    "---\n",
    "title: \"Datatypes and Operators - Notebook\"\n",
    "navtitle: \"Datatypes and Operators (INB)\"\n",
    "subtitle: \"Interactive notebook introducing datatypes and operators\"\n",
    "description: \"Interactive notebook with Python to get started with datatypes and operators.\"\n",
    "format:\n",
    "  html:\n",
    "    page-layout: full\n",
    "    title-block-banner: true\n",
    "---"
   ]
  },
  {
   "cell_type": "code",
   "execution_count": 1,
   "id": "41457c03-260d-4efd-b3b0-bc3a7c4e08a9",
   "metadata": {},
   "outputs": [],
   "source": []
  },
  {
   "cell_type": "code",
   "execution_count": 2,
   "id": "a0a97d99-4707-4caf-9e27-2ce6da6c4d6e",
   "metadata": {},
   "outputs": [
    {
     "data": {
      "text/plain": [
       "9"
      ]
     },
     "execution_count": 1,
     "metadata": {},
     "output_type": "execute_result"
    }
   ],
   "source": [
    "4+5"
   ]
  },
  {
   "cell_type": "code",
   "execution_count": 3,
   "id": "c1cd4aac-797d-44e8-8bc8-2dcaf14afeb8",
   "metadata": {},
   "outputs": [
    {
     "name": "stdout",
     "output_type": "stream",
     "text": [
      "Hello\n"
     ]
    }
   ],
   "source": [
    "print('Hello')"
   ]
  },
  {
   "cell_type": "code",
   "execution_count": 4,
   "id": "812dd578-b92b-46d7-9def-a54f71f94c86",
   "metadata": {},
   "outputs": [],
   "source": []
  },
  {
   "cell_type": "code",
   "execution_count": 5,
   "id": "4d5b9b95-896c-4d78-9505-48630ee1987e",
   "metadata": {},
   "outputs": [],
   "source": []
  }
 ],
 "metadata": {
  "kernelspec": {
   "display_name": "Python 3 (ipykernel)",
   "language": "python",
   "name": "python3"
  },
  "language_info": {
   "codemirror_mode": {
    "name": "ipython",
    "version": 3
   },
   "file_extension": ".py",
   "mimetype": "text/x-python",
   "name": "python",
   "nbconvert_exporter": "python",
   "pygments_lexer": "ipython3",
   "version": "3.12.7"
  }
 },
 "nbformat": 4,
 "nbformat_minor": 5
}
