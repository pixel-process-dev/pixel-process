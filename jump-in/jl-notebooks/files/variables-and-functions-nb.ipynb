{
 "cells": [
  {
   "cell_type": "raw",
   "id": "c7099b4a-e8f8-4612-acb1-7aad922a3e22",
   "metadata": {
    "vscode": {
     "languageId": "raw"
    }
   },
   "source": [
    "---\n",
    "title: \"Variables and Functions - Notebook\"\n",
    "navtitle: \"Variables and Functions (INB)\"\n",
    "subtitle: \"Interactive notebook introducing variables and functions\"\n",
    "description: \"Interactive notebook with Python to get started with variables and functions.\"\n",
    "format:\n",
    "  html:\n",
    "    page-layout: full\n",
    "    title-block-banner: true\n",
    "---"
   ]
  },
  {
   "cell_type": "markdown",
   "id": "3e9cacc2-3b72-4ff8-8c75-89fd7e4c13cd",
   "metadata": {},
   "source": [
    "## Hello World\n",
    "\n",
    "Any programmer knows, the first test to show if you know a language it printing `Hello, World!`\n",
    "\n",
    "This **interactive** notebook uses only pure Python, no external resources to get started.\n",
    "\n",
    "Topics covered:\n",
    "\n",
    "- Hello World\n",
    "- Types (int, float, str, bool, list, dict, set, tuple)\n",
    "- Variables & assignment\n",
    "- Operators (arithmetic, comparison, logical)"
   ]
  },
  {
   "cell_type": "code",
   "execution_count": 1,
   "id": "4a0a1a81-b8de-475b-ab4e-b0dac128fbcb",
   "metadata": {},
   "outputs": [
    {
     "name": "stdout",
     "output_type": "stream",
     "text": [
      "Hello, World!\n"
     ]
    }
   ],
   "source": [
    "print(\"Hello, World!\")"
   ]
  },
  {
   "cell_type": "markdown",
   "id": "6757aa64-b08c-4c96-b0f0-2ad12443e1d9",
   "metadata": {},
   "source": [
    "There are two parts to the syntax above:\n",
    "- `print` is a builtin function\n",
    "- \"Hello, World!\" is a string\n",
    "\n",
    "When `print` is given a single, string argument like above, it displays that input.\n",
    "\n",
    "Next, give yourself a little praise, you're on your way to mastering Python and more.\n",
    "\n",
    "Set up two `variables` to work with:\n",
    "- `compliment`\n",
    "- `name`"
   ]
  },
  {
   "cell_type": "code",
   "execution_count": 2,
   "id": "4f4d9c0c-1658-4b1c-9fc8-6a023524d440",
   "metadata": {},
   "outputs": [],
   "source": [
    "compliment = \"Great work\""
   ]
  },
  {
   "cell_type": "code",
   "execution_count": 3,
   "id": "fc4a9c56-0b70-4109-b093-dfc8f87b2878",
   "metadata": {},
   "outputs": [],
   "source": [
    "name = \"Your name here\""
   ]
  },
  {
   "cell_type": "code",
   "execution_count": 4,
   "id": "39a5ab1e-2577-42d6-82c0-22ac27c0d00d",
   "metadata": {},
   "outputs": [
    {
     "name": "stdout",
     "output_type": "stream",
     "text": [
      "Great work\n",
      "Your name here\n"
     ]
    }
   ],
   "source": [
    "print(compliment)\n",
    "print(name)"
   ]
  },
  {
   "cell_type": "markdown",
   "id": "655ade87-fa1d-448a-a299-9b220cb9f4dc",
   "metadata": {},
   "source": [
    "### Working with Variables\n",
    "\n",
    "Variables are essential to programming. A variable creates a named container for information.\n",
    "\n",
    "Variable names can only contain letters, digits, and underscores, must start with a letter or underscore, and can’t be a reserved word (e.g., `if`, `def`, `return`).\n",
    "\n",
    "In Python, use `=` to assign values: `x = 5`.\n",
    "\n",
    "Creating and working with variables makes programming much easier! \n",
    "\n",
    "It creates a reusable, custom name."
   ]
  },
  {
   "cell_type": "code",
   "execution_count": 5,
   "id": "d1d06ab7-14a4-4902-a7c8-c2426d9ddba1",
   "metadata": {},
   "outputs": [
    {
     "name": "stdout",
     "output_type": "stream",
     "text": [
      "Great work\n",
      "Your name here\n"
     ]
    }
   ],
   "source": [
    "print(compliment)\n",
    "print(name)"
   ]
  },
  {
   "cell_type": "markdown",
   "id": "daa91288-3714-4d59-a681-481b74140127",
   "metadata": {},
   "source": [
    "Something about the above looks off...\n",
    "\n",
    "It should be on one line. "
   ]
  },
  {
   "cell_type": "code",
   "execution_count": 6,
   "id": "ef16bc50-7c0b-4528-97a7-23ff0ffc229e",
   "metadata": {},
   "outputs": [],
   "source": [
    "compliment_and_name = compliment + name"
   ]
  },
  {
   "cell_type": "code",
   "execution_count": 7,
   "id": "e6a40f51-bfe6-40cb-a598-d8bf751e1669",
   "metadata": {},
   "outputs": [
    {
     "name": "stdout",
     "output_type": "stream",
     "text": [
      "Great workYour name here\n"
     ]
    }
   ],
   "source": [
    "print(compliment_and_name)"
   ]
  },
  {
   "cell_type": "markdown",
   "id": "ea294fbe-015a-4b1e-8529-d958e5a2faee",
   "metadata": {},
   "source": [
    "Still not quite right..."
   ]
  },
  {
   "cell_type": "code",
   "execution_count": 8,
   "id": "e091f417-2140-4852-8cb9-0fde23ec04a1",
   "metadata": {},
   "outputs": [],
   "source": [
    "compliment_and_name_2 = compliment +', '+ name"
   ]
  },
  {
   "cell_type": "code",
   "execution_count": 9,
   "id": "43dc132f-8fa9-4486-8c40-3eaa7e3434db",
   "metadata": {},
   "outputs": [
    {
     "name": "stdout",
     "output_type": "stream",
     "text": [
      "Great work, Your name here\n"
     ]
    }
   ],
   "source": [
    "print(compliment_and_name_2)"
   ]
  },
  {
   "cell_type": "markdown",
   "id": "22c7a5b2-f53c-48fd-931a-85a8a774569d",
   "metadata": {},
   "source": [
    "With feeling!"
   ]
  },
  {
   "cell_type": "code",
   "execution_count": 10,
   "id": "474aa379-01b5-49bd-a791-0910136a51fd",
   "metadata": {},
   "outputs": [],
   "source": [
    "compliment_and_name_3 = compliment_and_name_2 +'!'"
   ]
  },
  {
   "cell_type": "code",
   "execution_count": 11,
   "id": "6ce19826-9569-4209-a6fb-3523457df243",
   "metadata": {},
   "outputs": [
    {
     "name": "stdout",
     "output_type": "stream",
     "text": [
      "Great work, Your name here!\n"
     ]
    }
   ],
   "source": [
    "print(compliment_and_name_3)"
   ]
  },
  {
   "cell_type": "markdown",
   "id": "547ea8c8-7e4d-48dd-a17a-b468cf2e538a",
   "metadata": {},
   "source": [
    "### Variable Review\n",
    "\n",
    "Now you have not only created variables you concatenated them with an operator `+`.\n",
    "\n",
    "Knowing how to manipulate variables is key to understanding programming."
   ]
  },
  {
   "cell_type": "markdown",
   "id": "cd3f5926-0b47-4c77-b094-ff3445c29322",
   "metadata": {},
   "source": [
    "| **Example**       | **Valid?** | **Reason**                                                   |\n",
    "| ----------------- | ---------- | ------------------------------------------------------------ |\n",
    "| `age`        | ✅ Yes      | Starts with a letter, letters only                           |\n",
    "| `user_name` | ✅ Yes      | Letters + underscore are allowed                             |\n",
    "| `temperature2`    | ✅ Yes      | Digits allowed, but not at start                             |\n",
    "| `_hidden`         | ✅ Yes      | Leading underscore allowed (often used for “private” values) |\n",
    "| `MAX_VALUE`       | ✅ Yes      | Uppercase is allowed, often used for constants               |\n",
    "| `2nd_value`       | ❌ No       | Cannot start with a digit                                    |\n",
    "| `user-name`       | ❌ No       | Dash (`-`) not allowed                                       |\n",
    "| `file.path`       | ❌ No       | Dot (`.`) means “attribute,” not part of a name              |\n",
    "| `my var`          | ❌ No       | Spaces not allowed                                           |\n",
    "| `return`      | ❌ No       | `return` is a reserved Python keyword                        |\n"
   ]
  },
  {
   "cell_type": "markdown",
   "id": "5ee6fad4-3edb-40b0-8747-797a68e71f0e",
   "metadata": {},
   "source": [
    "## Datatypes"
   ]
  },
  {
   "cell_type": "markdown",
   "id": "8f3c2efb-4537-4a1a-8977-ebf504f09e26",
   "metadata": {},
   "source": [
    "| **Category** | **Type**    | **Example**            |\n",
    "| ------------ | ----------- | ---------------------- |\n",
    "| Numbers      | `int`       | `42`                   |\n",
    "|              | `float`     | `3.14`                 |\n",
    "|              | `complex`   | `2 + 3j`               |\n",
    "| Text         | `str`       | `\"hello\"`              |\n",
    "| Sequences    | `list`      | `[1, 2, 3]`            |\n",
    "|              | `tuple`     | `(1, 2, 3)`            |\n",
    "|              | `range`     | `range(5)`             |\n",
    "| Sets         | `set`       | `{1, 2, 3}`            |\n",
    "|              | `frozenset` | `frozenset([1, 2, 3])` |\n",
    "| Mappings     | `dict`      | `{\"a\": 1, \"b\": 2}`     |\n",
    "| Boolean      | `bool`      | `True`, `False`        |\n",
    "| Special      | `NoneType`  | `None`                 |\n"
   ]
  },
  {
   "cell_type": "code",
   "execution_count": 12,
   "id": "4d5b9b95-896c-4d78-9505-48630ee1987e",
   "metadata": {},
   "outputs": [],
   "source": []
  }
 ],
 "metadata": {
  "kernelspec": {
   "display_name": "Python 3 (ipykernel)",
   "language": "python",
   "name": "python3"
  },
  "language_info": {
   "codemirror_mode": {
    "name": "ipython",
    "version": 3
   },
   "file_extension": ".py",
   "mimetype": "text/x-python",
   "name": "python",
   "nbconvert_exporter": "python",
   "pygments_lexer": "ipython3",
   "version": "3.12.7"
  }
 },
 "nbformat": 4,
 "nbformat_minor": 5
}
